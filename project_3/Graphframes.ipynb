{
 "cells": [
  {
   "cell_type": "markdown",
   "metadata": {},
   "source": [
    "# Project 3: Big graphs\n",
    "\n",
    "The objective of this project is to use Spark’s APIs to analyze the flight interconnected data to understand the popularity of the airports and flight patterns."
   ]
  },
  {
   "cell_type": "markdown",
   "metadata": {},
   "source": [
    "## Session setup"
   ]
  },
  {
   "cell_type": "code",
   "execution_count": 30,
   "metadata": {},
   "outputs": [],
   "source": [
    "import pyspark\n",
    "from delta import configure_spark_with_delta_pip\n",
    "\n",
    "# Prepare the Spark builder\n",
    "builder = pyspark.sql.SparkSession.builder.appName(\"Project_3\") \\\n",
    "    .config(\"spark.sql.extensions\", \"io.delta.sql.DeltaSparkSessionExtension\") \\\n",
    "    .config(\"spark.sql.catalog.spark_catalog\", \"org.apache.spark.sql.delta.catalog.DeltaCatalog\") \\\n",
    "    .config(\"spark.driver.memory\", \"4g\") \\\n",
    "    .config(\"spark.executor.memory\", \"4g\")\n",
    "\n",
    "spark = configure_spark_with_delta_pip(builder,extra_packages=[\"graphframes:graphframes:0.8.4-spark3.5-s_2.12\"]).getOrCreate()\n",
    "spark.conf.set(\"spark.sql.shuffle.partitions\", spark._sc.defaultParallelism)\n",
    "\n",
    "#spark.conf.set(\"spark.sql.repl.eagerEval.enabled\",True) # OK for exploration, not great for performance\n",
    "spark.conf.set(\"spark.sql.repl.eagerEval.truncate\", 500)"
   ]
  },
  {
   "cell_type": "code",
   "execution_count": 31,
   "metadata": {},
   "outputs": [],
   "source": [
    "import graphframes as gf\n",
    "import pyspark.sql.functions as F"
   ]
  },
  {
   "cell_type": "markdown",
   "metadata": {
    "application/vnd.databricks.v1+cell": {
     "cellMetadata": {},
     "inputWidgets": {},
     "nuid": "92b18f53-5683-43db-bf6e-2080eebf8afc",
     "showTitle": false,
     "title": ""
    }
   },
   "source": [
    "## Creating the Graph"
   ]
  },
  {
   "cell_type": "code",
   "execution_count": 3,
   "metadata": {
    "application/vnd.databricks.v1+cell": {
     "cellMetadata": {},
     "inputWidgets": {},
     "nuid": "1b44e89e-57ea-4cda-9dde-935a1d203fbd",
     "showTitle": false,
     "title": ""
    }
   },
   "outputs": [
    {
     "data": {
      "text/plain": [
       "DataFrame[FL_DATE: date, OP_CARRIER: string, OP_CARRIER_FL_NUM: int, ORIGIN: string, DEST: string, CRS_DEP_TIME: int, DEP_TIME: double, DEP_DELAY: double, TAXI_OUT: double, WHEELS_OFF: double, WHEELS_ON: double, TAXI_IN: double, CRS_ARR_TIME: int, ARR_TIME: double, ARR_DELAY: double, CANCELLED: double, CANCELLATION_CODE: string, DIVERTED: double, CRS_ELAPSED_TIME: double, ACTUAL_ELAPSED_TIME: double, AIR_TIME: double, DISTANCE: double, CARRIER_DELAY: double, WEATHER_DELAY: double, NAS_DELAY: double, SECURITY_DELAY: double, LATE_AIRCRAFT_DELAY: double, Unnamed: 27: string]"
      ]
     },
     "metadata": {},
     "output_type": "display_data"
    }
   ],
   "source": [
    "# Reading in the data\n",
    "\n",
    "flight_df = spark.read.csv(\"input/2009.csv\", header=True, inferSchema=True)\n",
    "display(flight_df)"
   ]
  },
  {
   "cell_type": "code",
   "execution_count": 4,
   "metadata": {
    "application/vnd.databricks.v1+cell": {
     "cellMetadata": {},
     "inputWidgets": {},
     "nuid": "2e400236-cfae-49b6-a7f8-55b58070ff2a",
     "showTitle": false,
     "title": ""
    }
   },
   "outputs": [
    {
     "data": {
      "text/plain": [
       "DataFrame[id: string]"
      ]
     },
     "metadata": {},
     "output_type": "display_data"
    }
   ],
   "source": [
    "# Vertices\n",
    "\n",
    "flight_vertices = (flight_df\n",
    "                  .select(F.col(\"ORIGIN\").alias(\"id\"))\n",
    "                  .union(flight_df\n",
    "                        .select(F.col(\"DEST\").alias(\"id\")))\n",
    "                  .distinct()\n",
    ")\n",
    "\n",
    "display(flight_vertices)"
   ]
  },
  {
   "cell_type": "code",
   "execution_count": 5,
   "metadata": {
    "application/vnd.databricks.v1+cell": {
     "cellMetadata": {},
     "inputWidgets": {},
     "nuid": "3845e9a6-68ee-4247-a2a0-695c2625e7bc",
     "showTitle": false,
     "title": ""
    }
   },
   "outputs": [
    {
     "data": {
      "text/plain": [
       "DataFrame[FL_DATE: date, OP_CARRIER: string, OP_CARRIER_FL_NUM: int, src: string, dst: string, CRS_DEP_TIME: int, DEP_TIME: double, DEP_DELAY: double, TAXI_OUT: double, WHEELS_OFF: double, WHEELS_ON: double, TAXI_IN: double, CRS_ARR_TIME: int, ARR_TIME: double, ARR_DELAY: double, CANCELLED: double, CANCELLATION_CODE: string, DIVERTED: double, CRS_ELAPSED_TIME: double, ACTUAL_ELAPSED_TIME: double, AIR_TIME: double, DISTANCE: double, CARRIER_DELAY: double, WEATHER_DELAY: double, NAS_DELAY: double, SECURITY_DELAY: double, LATE_AIRCRAFT_DELAY: double, Unnamed: 27: string]"
      ]
     },
     "metadata": {},
     "output_type": "display_data"
    }
   ],
   "source": [
    "# Edges\n",
    "\n",
    "flight_edges = (flight_df\n",
    "               .withColumnRenamed(\"ORIGIN\",\"src\")\n",
    "               .withColumnRenamed(\"DEST\",\"dst\")\n",
    ")\n",
    "\n",
    "display(flight_edges)"
   ]
  },
  {
   "cell_type": "markdown",
   "metadata": {},
   "source": [
    "#### GraphFrame"
   ]
  },
  {
   "cell_type": "code",
   "execution_count": 6,
   "metadata": {
    "application/vnd.databricks.v1+cell": {
     "cellMetadata": {},
     "inputWidgets": {},
     "nuid": "dedad5cc-a634-42d4-bac8-e24c2853ffa9",
     "showTitle": false,
     "title": ""
    }
   },
   "outputs": [
    {
     "data": {
      "text/plain": [
       "GraphFrame(v:[id: string], e:[src: string, dst: string ... 26 more fields])"
      ]
     },
     "metadata": {},
     "output_type": "display_data"
    }
   ],
   "source": [
    "flight_graph = gf.GraphFrame(flight_vertices, flight_edges)\n",
    "\n",
    "flight_vertices.cache()\n",
    "flight_edges.cache()\n",
    "\n",
    "display(flight_graph)"
   ]
  },
  {
   "cell_type": "markdown",
   "metadata": {
    "application/vnd.databricks.v1+cell": {
     "cellMetadata": {},
     "inputWidgets": {},
     "nuid": "acb9f1ff-a64d-4dab-9835-bb97e1e5323c",
     "showTitle": false,
     "title": ""
    }
   },
   "source": [
    "## Query 1 (0)\n",
    "\n",
    "Compute different statistics : in-degree, out-degree, total degree and triangle count (without existing functions). "
   ]
  },
  {
   "cell_type": "markdown",
   "metadata": {},
   "source": [
    "### In-degree"
   ]
  },
  {
   "cell_type": "code",
   "execution_count": 11,
   "metadata": {},
   "outputs": [
    {
     "name": "stdout",
     "output_type": "stream",
     "text": [
      "+---+--------+\n",
      "|dst|inDegree|\n",
      "+---+--------+\n",
      "|IAH|  182088|\n",
      "|JAX|   28813|\n",
      "|ABQ|   35577|\n",
      "|IND|   38198|\n",
      "|BOS|  110463|\n",
      "|GRR|   13970|\n",
      "|MEM|   71721|\n",
      "|PBI|   25496|\n",
      "|XNA|   13764|\n",
      "|LBB|    8004|\n",
      "|BTV|    6021|\n",
      "|VPS|    6958|\n",
      "|SYR|    9330|\n",
      "|JFK|  119571|\n",
      "|MBS|    3443|\n",
      "|SBN|    4527|\n",
      "|PDX|   52251|\n",
      "|RDD|    1433|\n",
      "|LNK|    2765|\n",
      "|HPN|   10661|\n",
      "+---+--------+\n",
      "only showing top 20 rows\n",
      "\n"
     ]
    }
   ],
   "source": [
    "in_degree = flight_graph.edges.groupBy(\"dst\").agg(F.count(\"*\").alias(\"inDegree\"))\n",
    "in_degree.show()"
   ]
  },
  {
   "cell_type": "code",
   "execution_count": 12,
   "metadata": {},
   "outputs": [
    {
     "name": "stdout",
     "output_type": "stream",
     "text": [
      "+---+--------+\n",
      "| id|inDegree|\n",
      "+---+--------+\n",
      "|IAH|  182088|\n",
      "|JAX|   28813|\n",
      "|ABQ|   35577|\n",
      "|IND|   38198|\n",
      "|BOS|  110463|\n",
      "|GRR|   13970|\n",
      "|MEM|   71721|\n",
      "|PBI|   25496|\n",
      "|XNA|   13764|\n",
      "|LBB|    8004|\n",
      "|BTV|    6021|\n",
      "|VPS|    6958|\n",
      "|SYR|    9330|\n",
      "|JFK|  119571|\n",
      "|MBS|    3443|\n",
      "|SBN|    4527|\n",
      "|PDX|   52251|\n",
      "|RDD|    1433|\n",
      "|LNK|    2765|\n",
      "|HPN|   10661|\n",
      "+---+--------+\n",
      "only showing top 20 rows\n",
      "\n"
     ]
    }
   ],
   "source": [
    "# For validation\n",
    "flight_graph.inDegrees.show()"
   ]
  },
  {
   "cell_type": "markdown",
   "metadata": {},
   "source": [
    "### Out-degree"
   ]
  },
  {
   "cell_type": "code",
   "execution_count": 13,
   "metadata": {},
   "outputs": [
    {
     "name": "stdout",
     "output_type": "stream",
     "text": [
      "+---+---------+\n",
      "|src|outDegree|\n",
      "+---+---------+\n",
      "|IAH|   182097|\n",
      "|JAX|    28810|\n",
      "|ABQ|    35582|\n",
      "|IND|    38201|\n",
      "|GRR|    13973|\n",
      "|LBB|     8002|\n",
      "|MEM|    71713|\n",
      "|BTV|     6028|\n",
      "|BOS|   110460|\n",
      "|PBI|    25500|\n",
      "|XNA|    13755|\n",
      "|VPS|     6959|\n",
      "|SYR|     9336|\n",
      "|JFK|   119574|\n",
      "|MBS|     3444|\n",
      "|SBN|     4526|\n",
      "|PDX|    52242|\n",
      "|RDD|     1433|\n",
      "|LNK|     2765|\n",
      "|HPN|    10657|\n",
      "+---+---------+\n",
      "only showing top 20 rows\n",
      "\n"
     ]
    }
   ],
   "source": [
    "out_degree = flight_graph.edges.groupBy(\"src\").agg(F.count(\"*\").alias(\"outDegree\"))\n",
    "out_degree.show()"
   ]
  },
  {
   "cell_type": "code",
   "execution_count": 14,
   "metadata": {},
   "outputs": [
    {
     "name": "stdout",
     "output_type": "stream",
     "text": [
      "+---+---------+\n",
      "| id|outDegree|\n",
      "+---+---------+\n",
      "|IAH|   182097|\n",
      "|JAX|    28810|\n",
      "|ABQ|    35582|\n",
      "|IND|    38201|\n",
      "|GRR|    13973|\n",
      "|LBB|     8002|\n",
      "|MEM|    71713|\n",
      "|BTV|     6028|\n",
      "|BOS|   110460|\n",
      "|PBI|    25500|\n",
      "|XNA|    13755|\n",
      "|VPS|     6959|\n",
      "|SYR|     9336|\n",
      "|JFK|   119574|\n",
      "|MBS|     3444|\n",
      "|SBN|     4526|\n",
      "|PDX|    52242|\n",
      "|RDD|     1433|\n",
      "|LNK|     2765|\n",
      "|HPN|    10657|\n",
      "+---+---------+\n",
      "only showing top 20 rows\n",
      "\n"
     ]
    }
   ],
   "source": [
    "# For validation\n",
    "flight_graph.outDegrees.show()"
   ]
  },
  {
   "cell_type": "markdown",
   "metadata": {},
   "source": [
    "### Total degree"
   ]
  },
  {
   "cell_type": "code",
   "execution_count": 15,
   "metadata": {},
   "outputs": [
    {
     "name": "stdout",
     "output_type": "stream",
     "text": [
      "+---+------+\n",
      "| id|degree|\n",
      "+---+------+\n",
      "|IAH|364185|\n",
      "|JAX| 57623|\n",
      "|ABQ| 71159|\n",
      "|IND| 76399|\n",
      "|GRR| 27943|\n",
      "|LBB| 16006|\n",
      "|MEM|143434|\n",
      "|BTV| 12049|\n",
      "|BOS|220923|\n",
      "|PBI| 50996|\n",
      "|XNA| 27519|\n",
      "|VPS| 13917|\n",
      "|SYR| 18666|\n",
      "|JFK|239145|\n",
      "|MBS|  6887|\n",
      "|SBN|  9053|\n",
      "|PDX|104493|\n",
      "|RDD|  2866|\n",
      "|LNK|  5530|\n",
      "|HPN| 21318|\n",
      "+---+------+\n",
      "only showing top 20 rows\n",
      "\n"
     ]
    }
   ],
   "source": [
    "# Finding the total degrees\n",
    "total_degree = flight_graph.edges.select(F.col(\"src\").alias(\"id\")) \\\n",
    "    .union(flight_graph.edges.select(F.col(\"dst\").alias(\"id\"))) \\\n",
    "    .groupBy(\"id\") \\\n",
    "    .agg(F.count(\"*\").alias(\"degree\"))\n",
    "\n",
    "total_degree.show()"
   ]
  },
  {
   "cell_type": "code",
   "execution_count": 15,
   "metadata": {},
   "outputs": [
    {
     "name": "stdout",
     "output_type": "stream",
     "text": [
      "+---+------+\n",
      "| id|degree|\n",
      "+---+------+\n",
      "|IAH|364185|\n",
      "|JAX| 57623|\n",
      "|ABQ| 71159|\n",
      "|IND| 76399|\n",
      "|BOS|220923|\n",
      "|GRR| 27943|\n",
      "|LBB| 16006|\n",
      "|MEM|143434|\n",
      "|BTV| 12049|\n",
      "|PBI| 50996|\n",
      "|XNA| 27519|\n",
      "|VPS| 13917|\n",
      "|SYR| 18666|\n",
      "|JFK|239145|\n",
      "|MBS|  6887|\n",
      "|SBN|  9053|\n",
      "|PDX|104493|\n",
      "|RDD|  2866|\n",
      "|LNK|  5530|\n",
      "|HPN| 21318|\n",
      "+---+------+\n",
      "only showing top 20 rows\n",
      "\n"
     ]
    }
   ],
   "source": [
    "# For validation\n",
    "flight_graph.degrees.show()"
   ]
  },
  {
   "cell_type": "markdown",
   "metadata": {},
   "source": [
    "## Query 2 (1)\n",
    "Compute the total number of triangles in the graph."
   ]
  },
  {
   "cell_type": "code",
   "execution_count": null,
   "metadata": {},
   "outputs": [],
   "source": []
  },
  {
   "cell_type": "markdown",
   "metadata": {},
   "source": [
    "## Query 3 (2)\n",
    "Compute a centrality measure of your choice natively on Spark using Graphframes."
   ]
  },
  {
   "cell_type": "code",
   "execution_count": 63,
   "metadata": {},
   "outputs": [],
   "source": [
    "# Precomputation for query 3 and 4\n",
    "from pyspark.sql.types import FloatType\n",
    "import json\n",
    "\n",
    "flight_vertices = (flight_df\n",
    "                  .select(F.col(\"ORIGIN\").alias(\"id\"))\n",
    "                  .union(flight_df\n",
    "                        .select(F.col(\"DEST\").alias(\"id\")))\n",
    "                  .distinct()\n",
    ")\n",
    "flight_edges = (flight_df\n",
    "                .select(F.col('ORIGIN').alias('src'), F.col('DEST').alias('dst'))\n",
    "                .distinct()\n",
    ")\n",
    "flight_graph = gf.GraphFrame(flight_vertices, flight_edges)\n",
    "\n",
    "# lookup table ID:'str' -> idx:int\n",
    "indexes = {}\n",
    "i = 0\n",
    "for node in flight_graph.vertices.toLocalIterator():\n",
    "    indexes[node.id] = i\n",
    "    i += 1\n",
    "\n",
    "# Adjacency matrix and column counter\n",
    "adjM = np.zeros(N * N).reshape((N, N))\n",
    "colCounts = np.zeros(N)\n",
    "\n",
    "for edge in flight_graph.edges.toLocalIterator():\n",
    "    fromIdx = indexes[edge.src] \n",
    "    toIdx = indexes[edge.dst]\n",
    "    adjM[toIdx][fromIdx] = 1\n",
    "    colCounts[fromIdx] += 1"
   ]
  },
  {
   "cell_type": "code",
   "execution_count": 75,
   "metadata": {},
   "outputs": [],
   "source": [
    "# Closeness Centrality \n",
    "def bfs(vertices, lookup, adjM, v: str):\n",
    "    lookup = json.loads(lookup)\n",
    "    adjM = json.loads(adjM)\n",
    "    N = len(vertices)\n",
    "    distances = [float('inf')] * N # initial list of distances (all 0)\n",
    "    distances[lookup[v]] = 0\n",
    "    visited = set() # set of visited nodes (tracked by index)\n",
    "    q = [v] # queue\n",
    "\n",
    "    while len(q) != 0:\n",
    "        curr = q.pop(0)\n",
    "        currIdx = lookup[curr]\n",
    "        if currIdx in visited:\n",
    "            continue\n",
    "        visited.add(currIdx)\n",
    "\n",
    "        for i in range(N):\n",
    "            if adjM[i][currIdx] == 1 and not i in visited:\n",
    "                distances[i] = min(distances[i], distances[currIdx] + 1)\n",
    "                q.append(vertices[i])\n",
    "\n",
    "    return (N - 1)/sum(distances)\n",
    "\n",
    "bfs_udf = F.udf(bfs, FloatType())"
   ]
  },
  {
   "cell_type": "code",
   "execution_count": 76,
   "metadata": {},
   "outputs": [
    {
     "name": "stdout",
     "output_type": "stream",
     "text": [
      "+---+----------+\n",
      "| id|centrality|\n",
      "+---+----------+\n",
      "|IAH| 0.5983773|\n",
      "|JAX|0.47504026|\n",
      "|ABQ|0.50687283|\n",
      "|IND| 0.5139373|\n",
      "|GRR|0.47049442|\n",
      "|LBB|0.40466392|\n",
      "|MEM| 0.5662188|\n",
      "|BTV|0.43382353|\n",
      "|BOS|0.53636366|\n",
      "|PBI|0.45807454|\n",
      "|XNA|0.47580644|\n",
      "|VPS|0.42753622|\n",
      "|SYR|0.43768546|\n",
      "|JFK| 0.5462963|\n",
      "|MBS|0.41143653|\n",
      "|SBN|0.43703705|\n",
      "|PDX| 0.5305755|\n",
      "|RDD|0.36019537|\n",
      "|LNK|0.45807454|\n",
      "|HPN|0.43255132|\n",
      "+---+----------+\n",
      "only showing top 20 rows\n",
      "\n"
     ]
    }
   ],
   "source": [
    "vertexList = [node.id for node in flight_graph.vertices.collect()]\n",
    "centralities = flight_graph.vertices.withColumn('centrality', bfs_udf(F.lit(vertexList), F.lit(json.dumps(indexes)), F.lit(json.dumps(adjM.tolist())), 'id'))\n",
    "centralities.show()"
   ]
  },
  {
   "cell_type": "markdown",
   "metadata": {},
   "source": [
    "## Query 4 (3)\n",
    "Implement the PageRank algorithm natively on Spark using Graphframes."
   ]
  },
  {
   "cell_type": "code",
   "execution_count": 24,
   "metadata": {},
   "outputs": [],
   "source": [
    "import numpy as np\n",
    "from pyspark.sql.functions import lit\n",
    "from pyspark.sql import Row\n",
    "from pyspark.sql.types import StructType, StructField, StringType, FloatType\n",
    "\n",
    "\n",
    "N = flight_graph.vertices.count()\n",
    "\n",
    "w = np.zeros(N * N).reshape((N, N))\n",
    "for i in range(N):\n",
    "    for j in range(N):\n",
    "        w[i][j] = adjM[i][j] / colCounts[j]\n",
    "        \n",
    "r = np.ones(N) / N # ranks during iteration t\n",
    "nr = w @ r * 0.85 + 0.15/N # ranks during iteration t+1\n",
    "while np.linalg.norm(r - nr) >= 1e-2:\n",
    "    r = nr\n",
    "    nr = w @ r * 0.85 + 0.15/N\n",
    "\n",
    "r *= N\n",
    "\n",
    "rankdf = spark.createDataFrame([(node.id, float(r[i])) for i, node in enumerate(flight_graph.vertices.collect())], ['id', 'self rank'])\n",
    "vertices = flight_graph.vertices.join(rankdf, on='id', how='inner')"
   ]
  },
  {
   "cell_type": "code",
   "execution_count": 25,
   "metadata": {},
   "outputs": [],
   "source": [
    "result = flight_graph.pageRank(resetProbability=0.85 ,tol=0.01)"
   ]
  },
  {
   "cell_type": "code",
   "execution_count": 26,
   "metadata": {},
   "outputs": [
    {
     "name": "stdout",
     "output_type": "stream",
     "text": [
      "+---+------------------+-------------------+\n",
      "| id|          pagerank|          self rank|\n",
      "+---+------------------+-------------------+\n",
      "|IAH| 2.027076736800265|  5.913136023821437|\n",
      "|JAX| 1.033090823110532| 1.5451739595830511|\n",
      "|ABQ| 1.047016963206775| 1.7157395513566578|\n",
      "|IND|1.0009248630869765| 1.9064005964082287|\n",
      "|GRR|0.8989095494757796| 0.7785236524416105|\n",
      "|LBB|0.8898990536255568|  0.521209893271091|\n",
      "|MEM|1.7618723649930417|  4.868021491387658|\n",
      "|BTV|0.8799527840681606| 0.5429734807644605|\n",
      "|BOS|1.1694393218877233|  2.781233411986623|\n",
      "|PBI|0.9459136986320067| 1.0849908569552607|\n",
      "|XNA| 0.912472699735275| 0.8439770022541137|\n",
      "|VPS|0.8685686928734259|0.38008814568417404|\n",
      "|SYR|0.8930956614063718| 0.7127668218904905|\n",
      "|JFK|1.4405034683667703|  3.494621818147398|\n",
      "|MBS|0.8649332623310891|0.33323498052345785|\n",
      "|SBN|0.8689849339031348| 0.3857359105319412|\n",
      "|PDX|1.2397638228141772|  2.386689800914159|\n",
      "|RDD|0.9188603905438856|0.29306971894077566|\n",
      "|LNK|0.8968211619161669|  0.563556437861472|\n",
      "|HPN| 0.895540140128138| 0.6043988956311653|\n",
      "+---+------------------+-------------------+\n",
      "only showing top 20 rows\n",
      "\n"
     ]
    }
   ],
   "source": [
    "result = result.vertices.join(vertices, on='id', how='inner')\n",
    "result.show()"
   ]
  },
  {
   "cell_type": "markdown",
   "metadata": {},
   "source": [
    "## Query 5 (4)\n",
    "Find the group of the most connected airports."
   ]
  },
  {
   "cell_type": "code",
   "execution_count": null,
   "metadata": {},
   "outputs": [],
   "source": []
  }
 ],
 "metadata": {
  "application/vnd.databricks.v1+notebook": {
   "dashboards": [],
   "language": "python",
   "notebookMetadata": {
    "mostRecentlyExecutedCommandWithImplicitDF": {
     "commandId": 109803845193651,
     "dataframes": [
      "_sqldf"
     ]
    },
    "pythonIndentUnit": 2
   },
   "notebookName": "Practice session - Graphframes",
   "notebookOrigID": 2259387480520179,
   "widgets": {}
  },
  "kernelspec": {
   "display_name": "Python 3 (ipykernel)",
   "language": "python",
   "name": "python3"
  },
  "language_info": {
   "codemirror_mode": {
    "name": "ipython",
    "version": 3
   },
   "file_extension": ".py",
   "mimetype": "text/x-python",
   "name": "python",
   "nbconvert_exporter": "python",
   "pygments_lexer": "ipython3",
   "version": "3.11.10"
  }
 },
 "nbformat": 4,
 "nbformat_minor": 4
}
