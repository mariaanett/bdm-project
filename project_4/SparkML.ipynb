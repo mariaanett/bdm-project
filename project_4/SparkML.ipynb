{
 "cells": [
  {
   "cell_type": "markdown",
   "metadata": {},
   "source": [
    "# Project 3: Big graphs\n",
    "\n",
    "The objective of this project is to use Spark’s APIs to analyze the flight interconnected data to understand the popularity of the airports and flight patterns."
   ]
  },
  {
   "cell_type": "markdown",
   "metadata": {
    "application/vnd.databricks.v1+cell": {
     "cellMetadata": {},
     "inputWidgets": {},
     "nuid": "92b18f53-5683-43db-bf6e-2080eebf8afc",
     "showTitle": false,
     "title": ""
    }
   },
   "source": [
    "## Task 1: Data Ingestion and Preparation"
   ]
  },
  {
   "cell_type": "markdown",
   "metadata": {},
   "source": [
    "### Session Setup"
   ]
  },
  {
   "cell_type": "code",
   "execution_count": 1,
   "metadata": {},
   "outputs": [],
   "source": [
    "import pyspark\n",
    "\n",
    "# Prepare the Spark builder\n",
    "spark = pyspark.sql.SparkSession.builder.appName(\"Project_4\") \\\n",
    "    .config(\"spark.driver.memory\", \"6g\") \\\n",
    "    .config(\"spark.driver.maxResultSize\", \"2g\") \\\n",
    "    .config(\"spark.executor.memory\", \"6g\") \\\n",
    "    .getOrCreate()\n",
    "\n",
    "spark.conf.set(\"spark.sql.execution.arrow.pyspark.enabled\", \"true\")\n",
    "spark.conf.set(\"spark.sql.shuffle.partitions\", 8)\n",
    "spark.conf.set(\"spark.sql.repl.eagerEval.truncate\", 500)"
   ]
  },
  {
   "cell_type": "code",
   "execution_count": 2,
   "metadata": {},
   "outputs": [],
   "source": [
    "import pyspark.sql.functions as F\n",
    "from pyspark.sql.types import *"
   ]
  },
  {
   "cell_type": "markdown",
   "metadata": {},
   "source": [
    "### Data Ingestion"
   ]
  },
  {
   "cell_type": "code",
   "execution_count": 3,
   "metadata": {},
   "outputs": [
    {
     "data": {
      "text/plain": [
       "DataFrame[FL_DATE: date, OP_CARRIER: string, OP_CARRIER_FL_NUM: int, ORIGIN: string, DEST: string, CRS_DEP_TIME: int, DEP_TIME: double, DEP_DELAY: double, TAXI_OUT: double, WHEELS_OFF: double, WHEELS_ON: double, TAXI_IN: double, CRS_ARR_TIME: int, ARR_TIME: double, ARR_DELAY: double, CANCELLED: double, CANCELLATION_CODE: string, DIVERTED: double, CRS_ELAPSED_TIME: double, ACTUAL_ELAPSED_TIME: double, AIR_TIME: double, DISTANCE: double, CARRIER_DELAY: double, WEATHER_DELAY: double, NAS_DELAY: double, SECURITY_DELAY: double, LATE_AIRCRAFT_DELAY: double, Unnamed: 27: string]"
      ]
     },
     "execution_count": 3,
     "metadata": {},
     "output_type": "execute_result"
    }
   ],
   "source": [
    "schema = StructType([\n",
    "    StructField(\"FL_DATE\", DateType(), True),\n",
    "    StructField(\"OP_CARRIER\", StringType(), True),\n",
    "    StructField(\"OP_CARRIER_FL_NUM\", IntegerType(), True),\n",
    "    StructField(\"ORIGIN\", StringType(), True),\n",
    "    StructField(\"DEST\", StringType(), True),\n",
    "    StructField(\"CRS_DEP_TIME\", IntegerType(), True),\n",
    "    StructField(\"DEP_TIME\", DoubleType(), True),\n",
    "    StructField(\"DEP_DELAY\", DoubleType(), True),\n",
    "    StructField(\"TAXI_OUT\", DoubleType(), True),\n",
    "    StructField(\"WHEELS_OFF\", DoubleType(), True),\n",
    "    StructField(\"WHEELS_ON\", DoubleType(), True),\n",
    "    StructField(\"TAXI_IN\", DoubleType(), True),\n",
    "    StructField(\"CRS_ARR_TIME\", IntegerType(), True),\n",
    "    StructField(\"ARR_TIME\", DoubleType(), True),\n",
    "    StructField(\"ARR_DELAY\", DoubleType(), True),\n",
    "    StructField(\"CANCELLED\", DoubleType(), True),\n",
    "    StructField(\"CANCELLATION_CODE\", StringType(), True),\n",
    "    StructField(\"DIVERTED\", DoubleType(), True),\n",
    "    StructField(\"CRS_ELAPSED_TIME\", DoubleType(), True),\n",
    "    StructField(\"ACTUAL_ELAPSED_TIME\", DoubleType(), True),\n",
    "    StructField(\"AIR_TIME\", DoubleType(), True),\n",
    "    StructField(\"DISTANCE\", DoubleType(), True),\n",
    "    StructField(\"CARRIER_DELAY\", DoubleType(), True),\n",
    "    StructField(\"WEATHER_DELAY\", DoubleType(), True),\n",
    "    StructField(\"NAS_DELAY\", DoubleType(), True),\n",
    "    StructField(\"SECURITY_DELAY\", DoubleType(), True),\n",
    "    StructField(\"LATE_AIRCRAFT_DELAY\", DoubleType(), True),\n",
    "    StructField(\"Unnamed: 27\", StringType(), True)\n",
    "])\n",
    "\n",
    "# Reading in the datasets\n",
    "flight_df = spark.read.csv(\"input/2009.csv\", header=True, schema=schema)\n",
    "test_df = spark.read.csv(\"input/2010.csv\", header=True, schema=schema)\n",
    "\n",
    "flight_df.cache()\n",
    "test_df.cache()"
   ]
  },
  {
   "cell_type": "markdown",
   "metadata": {},
   "source": [
    "### Partitioned Parquet\n",
    "\n",
    "TBA"
   ]
  },
  {
   "cell_type": "markdown",
   "metadata": {},
   "source": [
    "## Task 2: Cleaning and Preprocessing "
   ]
  },
  {
   "cell_type": "markdown",
   "metadata": {},
   "source": [
    "### Renaming columns for consistency"
   ]
  },
  {
   "cell_type": "code",
   "execution_count": 4,
   "metadata": {},
   "outputs": [],
   "source": [
    "renamed_columns = [\n",
    "    \"Date\", \"UniqueCarrier\", \"FlightNumber\", \"Origin\", \"Destination\",\n",
    "    \"CRSDepTime\", \"DepartureTime\", \"DepartureDelay\", \"TaxiOut\", \"WheelsOff\",\n",
    "    \"WheelsOn\", \"TaxiIn\", \"CRSArrivalTime\", \"ArrivalTime\", \"ArrivalDelay\",\n",
    "    \"Cancelled\", \"CancellationCode\", \"Diverted\", \"CRSElapsedTime\",\n",
    "    \"ActualElapsedTime\", \"AirTime\", \"Distance\", \"CarrierDelay\",\n",
    "    \"WeatherDelay\", \"NASDelay\", \"SecurityDelay\", \"LateAircraftDelay\",\n",
    "    \"UnusedColumn\"\n",
    "]\n",
    "\n",
    "flight_df = flight_df.toDF(*renamed_columns)\n",
    "test_df = test_df.toDF(*renamed_columns)"
   ]
  },
  {
   "cell_type": "markdown",
   "metadata": {},
   "source": [
    "### Creating day of week and month columns"
   ]
  },
  {
   "cell_type": "code",
   "execution_count": 5,
   "metadata": {},
   "outputs": [],
   "source": [
    "flight_df = flight_df.withColumn(\"DayofWeek\", F.dayofweek(\"Date\")) \\\n",
    "                     .withColumn(\"Month\", F.month(\"Date\"))\n",
    "\n",
    "test_df = test_df.withColumn(\"DayofWeek\", F.dayofweek(\"Date\")) \\\n",
    "                     .withColumn(\"Month\", F.month(\"Date\"))"
   ]
  },
  {
   "cell_type": "markdown",
   "metadata": {},
   "source": [
    "### Handindling empty values\n",
    "\n",
    "As the goal of the model is to predict flight cancellation, only attributes that relate to events which have happened before the departure/ cancellation can be used for predictions. Therefore, columns such as WheelsOff, ArrivalTime etc. are removed from the training data."
   ]
  },
  {
   "cell_type": "code",
   "execution_count": 6,
   "metadata": {},
   "outputs": [
    {
     "name": "stdout",
     "output_type": "stream",
     "text": [
      "+----+-------------+------------+------+-----------+----------+-------------+--------------+-------+---------+--------+------+--------------+-----------+------------+---------+----------------+--------+--------------+-----------------+-------+--------+------------+------------+--------+-------------+-----------------+------------+---------+-----+\n",
      "|Date|UniqueCarrier|FlightNumber|Origin|Destination|CRSDepTime|DepartureTime|DepartureDelay|TaxiOut|WheelsOff|WheelsOn|TaxiIn|CRSArrivalTime|ArrivalTime|ArrivalDelay|Cancelled|CancellationCode|Diverted|CRSElapsedTime|ActualElapsedTime|AirTime|Distance|CarrierDelay|WeatherDelay|NASDelay|SecurityDelay|LateAircraftDelay|UnusedColumn|DayofWeek|Month|\n",
      "+----+-------------+------------+------+-----------+----------+-------------+--------------+-------+---------+--------+------+--------------+-----------+------------+---------+----------------+--------+--------------+-----------------+-------+--------+------------+------------+--------+-------------+-----------------+------------+---------+-----+\n",
      "|   0|            0|           0|     0|          0|         0|        82867|         82867|  85787|    85787|   89322| 89321|             0|      89322|      102361|        0|         6342300|       0|             0|           102362| 102361|       0|     5258837|     5258837| 5258837|      5258837|          5258837|     6429338|        0|    0|\n",
      "+----+-------------+------------+------+-----------+----------+-------------+--------------+-------+---------+--------+------+--------------+-----------+------------+---------+----------------+--------+--------------+-----------------+-------+--------+------------+------------+--------+-------------+-----------------+------------+---------+-----+\n",
      "\n",
      "+----+-------------+------------+------+-----------+----------+-------------+--------------+-------+---------+--------+------+--------------+-----------+------------+---------+----------------+--------+--------------+-----------------+-------+--------+------------+------------+--------+-------------+-----------------+------------+---------+-----+\n",
      "|Date|UniqueCarrier|FlightNumber|Origin|Destination|CRSDepTime|DepartureTime|DepartureDelay|TaxiOut|WheelsOff|WheelsOn|TaxiIn|CRSArrivalTime|ArrivalTime|ArrivalDelay|Cancelled|CancellationCode|Diverted|CRSElapsedTime|ActualElapsedTime|AirTime|Distance|CarrierDelay|WeatherDelay|NASDelay|SecurityDelay|LateAircraftDelay|UnusedColumn|DayofWeek|Month|\n",
      "+----+-------------+------------+------+-----------+----------+-------------+--------------+-------+---------+--------+------+--------------+-----------+------------+---------+----------------+--------+--------------+-----------------+-------+--------+------------+------------+--------+-------------+-----------------+------------+---------+-----+\n",
      "|   0|            0|           0|     0|          0|         0|       108777|        108777| 111949|   111949|  116060|116060|             0|     116060|      128729|        0|         6336862|       0|            17|           128729| 128729|       0|     5275233|     5275233| 5275233|      5275233|          5275233|     6450117|        0|    0|\n",
      "+----+-------------+------------+------+-----------+----------+-------------+--------------+-------+---------+--------+------+--------------+-----------+------------+---------+----------------+--------+--------------+-----------------+-------+--------+------------+------------+--------+-------------+-----------------+------------+---------+-----+\n",
      "\n"
     ]
    }
   ],
   "source": [
    "# Empty values in dataset\n",
    "flight_df.select([\n",
    "    F.count(F.when(F.col(c).isNull() | (F.isnan(c) if dict(flight_df.dtypes)[c] in ('double', 'float') else F.lit(False)), c)).alias(c)\n",
    "    for c in flight_df.columns\n",
    "]).show()\n",
    "\n",
    "test_df.select([\n",
    "    F.count(F.when(F.col(c).isNull() | (F.isnan(c) if dict(test_df.dtypes)[c] in ('double', 'float') else F.lit(False)), c)).alias(c)\n",
    "    for c in test_df.columns\n",
    "]).show()"
   ]
  },
  {
   "cell_type": "code",
   "execution_count": 7,
   "metadata": {},
   "outputs": [
    {
     "name": "stdout",
     "output_type": "stream",
     "text": [
      "Cancelled flights: 87038\n",
      "+----+-------------+------------+------+-----------+----------+-------------+--------------+-------+---------+--------+------+--------------+-----------+------------+---------+----------------+--------+--------------+-----------------+-------+--------+------------+------------+--------+-------------+-----------------+------------+---------+-----+\n",
      "|Date|UniqueCarrier|FlightNumber|Origin|Destination|CRSDepTime|DepartureTime|DepartureDelay|TaxiOut|WheelsOff|WheelsOn|TaxiIn|CRSArrivalTime|ArrivalTime|ArrivalDelay|Cancelled|CancellationCode|Diverted|CRSElapsedTime|ActualElapsedTime|AirTime|Distance|CarrierDelay|WeatherDelay|NASDelay|SecurityDelay|LateAircraftDelay|UnusedColumn|DayofWeek|Month|\n",
      "+----+-------------+------------+------+-----------+----------+-------------+--------------+-------+---------+--------+------+--------------+-----------+------------+---------+----------------+--------+--------------+-----------------+-------+--------+------------+------------+--------+-------------+-----------------+------------+---------+-----+\n",
      "|   0|            0|           0|     0|          0|         0|        82867|         82867|  85787|    85787|   87038| 87038|             0|      87038|       87038|        0|               0|       0|             0|            87038|  87038|       0|       87038|       87038|   87038|        87038|            87038|       87038|        0|    0|\n",
      "+----+-------------+------------+------+-----------+----------+-------------+--------------+-------+---------+--------+------+--------------+-----------+------------+---------+----------------+--------+--------------+-----------------+-------+--------+------------+------------+--------+-------------+-----------------+------------+---------+-----+\n",
      "\n",
      "Cancelled flights: 113255\n",
      "+----+-------------+------------+------+-----------+----------+-------------+--------------+-------+---------+--------+------+--------------+-----------+------------+---------+----------------+--------+--------------+-----------------+-------+--------+------------+------------+--------+-------------+-----------------+------------+---------+-----+\n",
      "|Date|UniqueCarrier|FlightNumber|Origin|Destination|CRSDepTime|DepartureTime|DepartureDelay|TaxiOut|WheelsOff|WheelsOn|TaxiIn|CRSArrivalTime|ArrivalTime|ArrivalDelay|Cancelled|CancellationCode|Diverted|CRSElapsedTime|ActualElapsedTime|AirTime|Distance|CarrierDelay|WeatherDelay|NASDelay|SecurityDelay|LateAircraftDelay|UnusedColumn|DayofWeek|Month|\n",
      "+----+-------------+------------+------+-----------+----------+-------------+--------------+-------+---------+--------+------+--------------+-----------+------------+---------+----------------+--------+--------------+-----------------+-------+--------+------------+------------+--------+-------------+-----------------+------------+---------+-----+\n",
      "|   0|            0|           0|     0|          0|         0|       108777|        108777| 111949|   111949|  113255|113255|             0|     113255|      113255|        0|               0|       0|             8|           113255| 113255|       0|      113255|      113255|  113255|       113255|           113255|      113255|        0|    0|\n",
      "+----+-------------+------------+------+-----------+----------+-------------+--------------+-------+---------+--------+------+--------------+-----------+------------+---------+----------------+--------+--------------+-----------------+-------+--------+------------+------------+--------+-------------+-----------------+------------+---------+-----+\n",
      "\n"
     ]
    }
   ],
   "source": [
    "flight_df_c = flight_df.filter(F.col(\"Cancelled\") == 1)\n",
    "\n",
    "print(\"Cancelled flights:\", flight_df_c.count())\n",
    "\n",
    "flight_df_c.select([\n",
    "    F.count(F.when(F.col(c).isNull() | (F.isnan(c) if dict(flight_df.dtypes)[c] in ('double', 'float') else F.lit(False)), c)).alias(c)\n",
    "    for c in flight_df_c.columns\n",
    "]).show()\n",
    "\n",
    "\n",
    "test_df_c = test_df.filter(F.col(\"Cancelled\") == 1)\n",
    "\n",
    "print(\"Cancelled flights:\", test_df_c.count())\n",
    "\n",
    "test_df_c.select([\n",
    "    F.count(F.when(F.col(c).isNull() | (F.isnan(c) if dict(test_df.dtypes)[c] in ('double', 'float') else F.lit(False)), c)).alias(c)\n",
    "    for c in test_df_c.columns\n",
    "]).show()"
   ]
  },
  {
   "cell_type": "code",
   "execution_count": 8,
   "metadata": {},
   "outputs": [],
   "source": [
    "# Removing columns which have only NULL values for all cancelled fligths (events which occur after successful take-off)\n",
    "# Including these would give an unfair advantage to the model\n",
    "flight_df = flight_df.drop(\"UnusedColumn\", \"LateAircraftDelay\", \"SecurityDelay\", \"NASDelay\", \"WeatherDelay\", \"CarrierDelay\", \"AirTime\", \"ActualElapsedTime\", \"ArrivalDelay\", \"ArrivalTime\", \"TaxiIn\", \"WheelsOn\", \"CancellationCode\")\n",
    "\n",
    "test_df =   test_df  .drop(\"UnusedColumn\", \"LateAircraftDelay\", \"SecurityDelay\", \"NASDelay\", \"WeatherDelay\", \"CarrierDelay\", \"AirTime\", \"ActualElapsedTime\", \"ArrivalDelay\", \"ArrivalTime\", \"TaxiIn\", \"WheelsOn\", \"CancellationCode\")"
   ]
  },
  {
   "cell_type": "code",
   "execution_count": 9,
   "metadata": {},
   "outputs": [
    {
     "data": {
      "text/html": [
       "<div>\n",
       "<style scoped>\n",
       "    .dataframe tbody tr th:only-of-type {\n",
       "        vertical-align: middle;\n",
       "    }\n",
       "\n",
       "    .dataframe tbody tr th {\n",
       "        vertical-align: top;\n",
       "    }\n",
       "\n",
       "    .dataframe thead th {\n",
       "        text-align: right;\n",
       "    }\n",
       "</style>\n",
       "<table border=\"1\" class=\"dataframe\">\n",
       "  <thead>\n",
       "    <tr style=\"text-align: right;\">\n",
       "      <th></th>\n",
       "      <th>summary</th>\n",
       "      <th>UniqueCarrier</th>\n",
       "      <th>FlightNumber</th>\n",
       "      <th>Origin</th>\n",
       "      <th>Destination</th>\n",
       "      <th>CRSDepTime</th>\n",
       "      <th>DepartureTime</th>\n",
       "      <th>DepartureDelay</th>\n",
       "      <th>TaxiOut</th>\n",
       "      <th>WheelsOff</th>\n",
       "      <th>CRSArrivalTime</th>\n",
       "      <th>Cancelled</th>\n",
       "      <th>Diverted</th>\n",
       "      <th>CRSElapsedTime</th>\n",
       "      <th>Distance</th>\n",
       "      <th>DayofWeek</th>\n",
       "      <th>Month</th>\n",
       "    </tr>\n",
       "  </thead>\n",
       "  <tbody>\n",
       "    <tr>\n",
       "      <th>0</th>\n",
       "      <td>count</td>\n",
       "      <td>6450117</td>\n",
       "      <td>6450117</td>\n",
       "      <td>6450117</td>\n",
       "      <td>6450117</td>\n",
       "      <td>6450117</td>\n",
       "      <td>6341340</td>\n",
       "      <td>6341340</td>\n",
       "      <td>6338168</td>\n",
       "      <td>6338168</td>\n",
       "      <td>6450117</td>\n",
       "      <td>6450117</td>\n",
       "      <td>6450117</td>\n",
       "      <td>6450100</td>\n",
       "      <td>6450117</td>\n",
       "      <td>6450117</td>\n",
       "      <td>6450117</td>\n",
       "    </tr>\n",
       "    <tr>\n",
       "      <th>1</th>\n",
       "      <td>mean</td>\n",
       "      <td>None</td>\n",
       "      <td>2433.4595603459597</td>\n",
       "      <td>None</td>\n",
       "      <td>None</td>\n",
       "      <td>1323.0126616307891</td>\n",
       "      <td>1330.040559250884</td>\n",
       "      <td>8.261324893476774</td>\n",
       "      <td>15.617770939489139</td>\n",
       "      <td>1353.4626994740436</td>\n",
       "      <td>1500.0097100564221</td>\n",
       "      <td>0.017558596223913456</td>\n",
       "      <td>0.0023990262502215074</td>\n",
       "      <td>130.3933080107285</td>\n",
       "      <td>734.9153317684005</td>\n",
       "      <td>3.9559376984944614</td>\n",
       "      <td>6.5456626600726775</td>\n",
       "    </tr>\n",
       "    <tr>\n",
       "      <th>2</th>\n",
       "      <td>stddev</td>\n",
       "      <td>None</td>\n",
       "      <td>2082.356979268585</td>\n",
       "      <td>None</td>\n",
       "      <td>None</td>\n",
       "      <td>461.4298704225147</td>\n",
       "      <td>473.0878523556648</td>\n",
       "      <td>31.860019423969987</td>\n",
       "      <td>9.517364200434738</td>\n",
       "      <td>474.409697593094</td>\n",
       "      <td>475.4615038390932</td>\n",
       "      <td>0.1313403768723643</td>\n",
       "      <td>0.04892107208877716</td>\n",
       "      <td>70.26835129543119</td>\n",
       "      <td>566.3835288820059</td>\n",
       "      <td>1.9605693011586847</td>\n",
       "      <td>3.4148049664755553</td>\n",
       "    </tr>\n",
       "    <tr>\n",
       "      <th>3</th>\n",
       "      <td>min</td>\n",
       "      <td>9E</td>\n",
       "      <td>1</td>\n",
       "      <td>ABE</td>\n",
       "      <td>ABE</td>\n",
       "      <td>3</td>\n",
       "      <td>1.0</td>\n",
       "      <td>-206.0</td>\n",
       "      <td>1.0</td>\n",
       "      <td>1.0</td>\n",
       "      <td>1</td>\n",
       "      <td>0.0</td>\n",
       "      <td>0.0</td>\n",
       "      <td>1.0</td>\n",
       "      <td>31.0</td>\n",
       "      <td>1</td>\n",
       "      <td>1</td>\n",
       "    </tr>\n",
       "    <tr>\n",
       "      <th>4</th>\n",
       "      <td>max</td>\n",
       "      <td>YV</td>\n",
       "      <td>8942</td>\n",
       "      <td>YUM</td>\n",
       "      <td>YUM</td>\n",
       "      <td>2359</td>\n",
       "      <td>2400.0</td>\n",
       "      <td>1626.0</td>\n",
       "      <td>278.0</td>\n",
       "      <td>2400.0</td>\n",
       "      <td>2359</td>\n",
       "      <td>1.0</td>\n",
       "      <td>1.0</td>\n",
       "      <td>655.0</td>\n",
       "      <td>4962.0</td>\n",
       "      <td>7</td>\n",
       "      <td>12</td>\n",
       "    </tr>\n",
       "  </tbody>\n",
       "</table>\n",
       "</div>"
      ],
      "text/plain": [
       "  summary UniqueCarrier        FlightNumber   Origin Destination  \\\n",
       "0   count       6450117             6450117  6450117     6450117   \n",
       "1    mean          None  2433.4595603459597     None        None   \n",
       "2  stddev          None   2082.356979268585     None        None   \n",
       "3     min            9E                   1      ABE         ABE   \n",
       "4     max            YV                8942      YUM         YUM   \n",
       "\n",
       "           CRSDepTime      DepartureTime      DepartureDelay  \\\n",
       "0             6450117            6341340             6341340   \n",
       "1  1323.0126616307891  1330.040559250884   8.261324893476774   \n",
       "2   461.4298704225147  473.0878523556648  31.860019423969987   \n",
       "3                   3                1.0              -206.0   \n",
       "4                2359             2400.0              1626.0   \n",
       "\n",
       "              TaxiOut           WheelsOff      CRSArrivalTime  \\\n",
       "0             6338168             6338168             6450117   \n",
       "1  15.617770939489139  1353.4626994740436  1500.0097100564221   \n",
       "2   9.517364200434738    474.409697593094   475.4615038390932   \n",
       "3                 1.0                 1.0                   1   \n",
       "4               278.0              2400.0                2359   \n",
       "\n",
       "              Cancelled               Diverted     CRSElapsedTime  \\\n",
       "0               6450117                6450117            6450100   \n",
       "1  0.017558596223913456  0.0023990262502215074  130.3933080107285   \n",
       "2    0.1313403768723643    0.04892107208877716  70.26835129543119   \n",
       "3                   0.0                    0.0                1.0   \n",
       "4                   1.0                    1.0              655.0   \n",
       "\n",
       "            Distance           DayofWeek               Month  \n",
       "0            6450117             6450117             6450117  \n",
       "1  734.9153317684005  3.9559376984944614  6.5456626600726775  \n",
       "2  566.3835288820059  1.9605693011586847  3.4148049664755553  \n",
       "3               31.0                   1                   1  \n",
       "4             4962.0                   7                  12  "
      ]
     },
     "execution_count": 9,
     "metadata": {},
     "output_type": "execute_result"
    }
   ],
   "source": [
    "flight_df.describe().toPandas()\n",
    "\n",
    "test_df.describe().toPandas()"
   ]
  },
  {
   "cell_type": "code",
   "execution_count": 10,
   "metadata": {},
   "outputs": [],
   "source": [
    "# Replacing missing values with dummy values as mean/median may be too misleading for the model\n",
    "flight_df = flight_df.fillna({\n",
    "    \"DepartureTime\": -1,\n",
    "    \"DepartureDelay\": -999,\n",
    "    \"TaxiOut\": -1,\n",
    "    \"WheelsOff\": -1\n",
    "})\n",
    "\n",
    "\n",
    "test_df = test_df.fillna({\n",
    "    \"DepartureTime\": -1,\n",
    "    \"DepartureDelay\": -999,\n",
    "    \"TaxiOut\": -1,\n",
    "    \"WheelsOff\": -1\n",
    "})"
   ]
  },
  {
   "cell_type": "markdown",
   "metadata": {},
   "source": [
    "### Filtering out diverted flights"
   ]
  },
  {
   "cell_type": "code",
   "execution_count": 11,
   "metadata": {},
   "outputs": [],
   "source": [
    "flight_df = flight_df.filter(F.col(\"Diverted\") != 1)\n",
    "flight_df = flight_df.drop(\"Diverted\")\n",
    "\n",
    "\n",
    "test_df = test_df.filter(F.col(\"Diverted\") != 1)\n",
    "test_df = test_df.drop(\"Diverted\")"
   ]
  },
  {
   "cell_type": "markdown",
   "metadata": {},
   "source": [
    "### Result of data cleaning and preprocessing"
   ]
  },
  {
   "cell_type": "code",
   "execution_count": 12,
   "metadata": {},
   "outputs": [
    {
     "data": {
      "text/html": [
       "<div>\n",
       "<style scoped>\n",
       "    .dataframe tbody tr th:only-of-type {\n",
       "        vertical-align: middle;\n",
       "    }\n",
       "\n",
       "    .dataframe tbody tr th {\n",
       "        vertical-align: top;\n",
       "    }\n",
       "\n",
       "    .dataframe thead th {\n",
       "        text-align: right;\n",
       "    }\n",
       "</style>\n",
       "<table border=\"1\" class=\"dataframe\">\n",
       "  <thead>\n",
       "    <tr style=\"text-align: right;\">\n",
       "      <th></th>\n",
       "      <th>summary</th>\n",
       "      <th>UniqueCarrier</th>\n",
       "      <th>FlightNumber</th>\n",
       "      <th>Origin</th>\n",
       "      <th>Destination</th>\n",
       "      <th>CRSDepTime</th>\n",
       "      <th>DepartureTime</th>\n",
       "      <th>DepartureDelay</th>\n",
       "      <th>TaxiOut</th>\n",
       "      <th>WheelsOff</th>\n",
       "      <th>CRSArrivalTime</th>\n",
       "      <th>Cancelled</th>\n",
       "      <th>CRSElapsedTime</th>\n",
       "      <th>Distance</th>\n",
       "      <th>DayofWeek</th>\n",
       "      <th>Month</th>\n",
       "    </tr>\n",
       "  </thead>\n",
       "  <tbody>\n",
       "    <tr>\n",
       "      <th>0</th>\n",
       "      <td>count</td>\n",
       "      <td>6434643</td>\n",
       "      <td>6434643</td>\n",
       "      <td>6434643</td>\n",
       "      <td>6434643</td>\n",
       "      <td>6434643</td>\n",
       "      <td>6434643</td>\n",
       "      <td>6434643</td>\n",
       "      <td>6434643</td>\n",
       "      <td>6434643</td>\n",
       "      <td>6434643</td>\n",
       "      <td>6434643</td>\n",
       "      <td>6434635</td>\n",
       "      <td>6434643</td>\n",
       "      <td>6434643</td>\n",
       "      <td>6434643</td>\n",
       "    </tr>\n",
       "    <tr>\n",
       "      <th>1</th>\n",
       "      <td>mean</td>\n",
       "      <td>None</td>\n",
       "      <td>2433.2922154344847</td>\n",
       "      <td>None</td>\n",
       "      <td>None</td>\n",
       "      <td>1322.9812953104004</td>\n",
       "      <td>1307.471532142498</td>\n",
       "      <td>-8.794337929858735</td>\n",
       "      <td>15.323183586097938</td>\n",
       "      <td>1329.8237198240836</td>\n",
       "      <td>1499.8885931977889</td>\n",
       "      <td>0.017600821055651417</td>\n",
       "      <td>130.34318667647815</td>\n",
       "      <td>734.5328631285372</td>\n",
       "      <td>3.9560480666915008</td>\n",
       "      <td>6.546284075122738</td>\n",
       "    </tr>\n",
       "    <tr>\n",
       "      <th>2</th>\n",
       "      <td>stddev</td>\n",
       "      <td>None</td>\n",
       "      <td>2082.097773831356</td>\n",
       "      <td>None</td>\n",
       "      <td>None</td>\n",
       "      <td>461.48885097670336</td>\n",
       "      <td>499.50716281426935</td>\n",
       "      <td>133.62067734874591</td>\n",
       "      <td>9.671766408220584</td>\n",
       "      <td>502.536249300171</td>\n",
       "      <td>475.5088218056595</td>\n",
       "      <td>0.13149537954238832</td>\n",
       "      <td>70.24118534540357</td>\n",
       "      <td>566.1727283232726</td>\n",
       "      <td>1.9605737402995127</td>\n",
       "      <td>3.415030616508686</td>\n",
       "    </tr>\n",
       "    <tr>\n",
       "      <th>3</th>\n",
       "      <td>min</td>\n",
       "      <td>9E</td>\n",
       "      <td>1</td>\n",
       "      <td>ABE</td>\n",
       "      <td>ABE</td>\n",
       "      <td>3</td>\n",
       "      <td>-1.0</td>\n",
       "      <td>-999.0</td>\n",
       "      <td>-1.0</td>\n",
       "      <td>-1.0</td>\n",
       "      <td>1</td>\n",
       "      <td>0.0</td>\n",
       "      <td>1.0</td>\n",
       "      <td>31.0</td>\n",
       "      <td>1</td>\n",
       "      <td>1</td>\n",
       "    </tr>\n",
       "    <tr>\n",
       "      <th>4</th>\n",
       "      <td>max</td>\n",
       "      <td>YV</td>\n",
       "      <td>8942</td>\n",
       "      <td>YUM</td>\n",
       "      <td>YUM</td>\n",
       "      <td>2359</td>\n",
       "      <td>2400.0</td>\n",
       "      <td>1626.0</td>\n",
       "      <td>278.0</td>\n",
       "      <td>2400.0</td>\n",
       "      <td>2359</td>\n",
       "      <td>1.0</td>\n",
       "      <td>655.0</td>\n",
       "      <td>4962.0</td>\n",
       "      <td>7</td>\n",
       "      <td>12</td>\n",
       "    </tr>\n",
       "  </tbody>\n",
       "</table>\n",
       "</div>"
      ],
      "text/plain": [
       "  summary UniqueCarrier        FlightNumber   Origin Destination  \\\n",
       "0   count       6434643             6434643  6434643     6434643   \n",
       "1    mean          None  2433.2922154344847     None        None   \n",
       "2  stddev          None   2082.097773831356     None        None   \n",
       "3     min            9E                   1      ABE         ABE   \n",
       "4     max            YV                8942      YUM         YUM   \n",
       "\n",
       "           CRSDepTime       DepartureTime      DepartureDelay  \\\n",
       "0             6434643             6434643             6434643   \n",
       "1  1322.9812953104004   1307.471532142498  -8.794337929858735   \n",
       "2  461.48885097670336  499.50716281426935  133.62067734874591   \n",
       "3                   3                -1.0              -999.0   \n",
       "4                2359              2400.0              1626.0   \n",
       "\n",
       "              TaxiOut           WheelsOff      CRSArrivalTime  \\\n",
       "0             6434643             6434643             6434643   \n",
       "1  15.323183586097938  1329.8237198240836  1499.8885931977889   \n",
       "2   9.671766408220584    502.536249300171   475.5088218056595   \n",
       "3                -1.0                -1.0                   1   \n",
       "4               278.0              2400.0                2359   \n",
       "\n",
       "              Cancelled      CRSElapsedTime           Distance  \\\n",
       "0               6434643             6434635            6434643   \n",
       "1  0.017600821055651417  130.34318667647815  734.5328631285372   \n",
       "2   0.13149537954238832   70.24118534540357  566.1727283232726   \n",
       "3                   0.0                 1.0               31.0   \n",
       "4                   1.0               655.0             4962.0   \n",
       "\n",
       "            DayofWeek              Month  \n",
       "0             6434643            6434643  \n",
       "1  3.9560480666915008  6.546284075122738  \n",
       "2  1.9605737402995127  3.415030616508686  \n",
       "3                   1                  1  \n",
       "4                   7                 12  "
      ]
     },
     "execution_count": 12,
     "metadata": {},
     "output_type": "execute_result"
    }
   ],
   "source": [
    "flight_df.describe().toPandas()\n",
    "\n",
    "test_df.describe().toPandas()"
   ]
  },
  {
   "cell_type": "markdown",
   "metadata": {},
   "source": [
    "## Task 4: Feature Engineering"
   ]
  },
  {
   "cell_type": "markdown",
   "metadata": {},
   "source": [
    "### Processing categorical features with StringIndexer + OneHotEncoder"
   ]
  },
  {
   "cell_type": "code",
   "execution_count": 13,
   "metadata": {},
   "outputs": [
    {
     "name": "stdout",
     "output_type": "stream",
     "text": [
      "Defining stages for categorical features...\n",
      "  Added StringIndexer (Origin -> Origin_Index)\n",
      "  Added OneHotEncoder (Origin_Index -> Origin_Vec)\n",
      "  Added StringIndexer (Destination -> Destination_Index)\n",
      "  Added OneHotEncoder (Destination_Index -> Destination_Vec)\n",
      "  Added StringIndexer (CRSDepTime -> CRSDepTime_Index)\n",
      "  Added OneHotEncoder (CRSDepTime_Index -> CRSDepTime_Vec)\n",
      "  Added StringIndexer (DayofWeek -> DayofWeek_Index)\n",
      "  Added OneHotEncoder (DayofWeek_Index -> DayofWeek_Vec)\n",
      "  Added StringIndexer (Month -> Month_Index)\n",
      "  Added OneHotEncoder (Month_Index -> Month_Vec)\n"
     ]
    }
   ],
   "source": [
    "from pyspark.ml.feature import StringIndexer, OneHotEncoder\n",
    "\n",
    "categorical_cols = ['Origin', 'Destination', 'CRSDepTime', 'DayofWeek', 'Month'] # FlightNumber\n",
    "\n",
    "indexers_and_encoders = []\n",
    "print(\"Defining stages for categorical features...\")\n",
    "for cat_col in categorical_cols:\n",
    "    index_col = cat_col + \"_Index\"\n",
    "    vec_col = cat_col + \"_Vec\"\n",
    "\n",
    "    # Indexer Stage\n",
    "    string_indexer = StringIndexer(inputCol=cat_col, outputCol=index_col, handleInvalid='keep')\n",
    "    indexers_and_encoders.append(string_indexer)\n",
    "    print(f\"  Added StringIndexer ({cat_col} -> {index_col})\")\n",
    "\n",
    "    # Encoder Stage\n",
    "    encoder = OneHotEncoder(inputCols=[index_col], outputCols=[vec_col])\n",
    "    indexers_and_encoders.append(encoder)\n",
    "    print(f\"  Added OneHotEncoder ({index_col} -> {vec_col})\")\n",
    "\n",
    "# Keep track of the output vector column names for the assembler\n",
    "categorical_vec_cols = [col + \"_Vec\" for col in categorical_cols]"
   ]
  },
  {
   "cell_type": "markdown",
   "metadata": {},
   "source": [
    "### Label Indexing"
   ]
  },
  {
   "cell_type": "code",
   "execution_count": 14,
   "metadata": {},
   "outputs": [
    {
     "name": "stdout",
     "output_type": "stream",
     "text": [
      "Added StringIndexer for label (Cancelled -> label)\n"
     ]
    }
   ],
   "source": [
    "label_col = 'Cancelled'\n",
    "label_output_col = \"label\"\n",
    "\n",
    "label_indexer = StringIndexer(inputCol=label_col, outputCol=label_output_col)\n",
    "print(f\"Added StringIndexer for label ({label_col} -> {label_output_col})\")"
   ]
  },
  {
   "cell_type": "markdown",
   "metadata": {},
   "source": [
    "### Combining features with VectorAssembler"
   ]
  },
  {
   "cell_type": "code",
   "execution_count": 15,
   "metadata": {},
   "outputs": [
    {
     "name": "stdout",
     "output_type": "stream",
     "text": [
      "Added VectorAssembler to create 'features' from 8 columns\n"
     ]
    }
   ],
   "source": [
    "from pyspark.ml.feature import VectorAssembler\n",
    "\n",
    "numerical_cols = ['CRSArrivalTime', 'CRSElapsedTime', 'Distance'] # 'CRSArrivalTime', 'CRSElapsedTime', 'TaxiOut', 'WheelsOff', 'DepartureTime'\n",
    "\n",
    "feature_output_col = \"features\"\n",
    "assembler_inputs = categorical_vec_cols + numerical_cols\n",
    "\n",
    "vector_assembler = VectorAssembler(inputCols=assembler_inputs, outputCol=feature_output_col, handleInvalid='skip')\n",
    "print(f\"Added VectorAssembler to create '{feature_output_col}' from {len(assembler_inputs)} columns\")"
   ]
  },
  {
   "cell_type": "markdown",
   "metadata": {},
   "source": [
    "### Preprocessing Pipeline"
   ]
  },
  {
   "cell_type": "code",
   "execution_count": 16,
   "metadata": {
    "scrolled": true
   },
   "outputs": [
    {
     "name": "stdout",
     "output_type": "stream",
     "text": [
      "Total stages in preprocessing pipeline: 12\n",
      "Fitting preprocessing pipeline...\n",
      "Pipeline fitting complete.\n",
      "Transforming data with fitted pipeline...\n",
      "Data transformation complete.\n",
      "Schema of data ready for modeling:\n",
      "root\n",
      " |-- label: double (nullable = false)\n",
      " |-- features: vector (nullable = true)\n",
      "\n",
      "\n",
      "Sample row for modeling:\n"
     ]
    }
   ],
   "source": [
    "from pyspark.ml import Pipeline\n",
    "\n",
    "# Combine all stages: categorical processing, label indexing, feature assembling\n",
    "all_stages = indexers_and_encoders + [label_indexer, vector_assembler]\n",
    "preprocessing_pipeline = Pipeline(stages=all_stages)\n",
    "\n",
    "print(f\"Total stages in preprocessing pipeline: {len(all_stages)}\")\n",
    "\n",
    "print(\"Fitting preprocessing pipeline...\")\n",
    "# Fit the preprocessing pipeline to the data\n",
    "preprocessing_model = preprocessing_pipeline.fit(flight_df)\n",
    "print(\"Pipeline fitting complete.\")\n",
    "\n",
    "print(\"Transforming data with fitted pipeline...\")\n",
    "# Transform the data\n",
    "processed_df = preprocessing_model.transform(flight_df) \n",
    "print(\"Data transformation complete.\")\n",
    "\n",
    "# Select only the relevant columns for modeling: 'label' and 'features'\n",
    "model_input_df = processed_df.select(label_output_col, feature_output_col)\n",
    "model_input_df.cache() # Cache the final data for modeling\n",
    "\n",
    "print(\"Schema of data ready for modeling:\")\n",
    "model_input_df.printSchema()\n",
    "\n",
    "# Show a sample row with the final 'label' and 'features' columns\n",
    "print(\"\\nSample row for modeling:\")"
   ]
  },
  {
   "cell_type": "code",
   "execution_count": 17,
   "metadata": {},
   "outputs": [
    {
     "name": "stdout",
     "output_type": "stream",
     "text": [
      "root\n",
      " |-- Date: date (nullable = true)\n",
      " |-- UniqueCarrier: string (nullable = true)\n",
      " |-- FlightNumber: integer (nullable = true)\n",
      " |-- Origin: string (nullable = true)\n",
      " |-- Destination: string (nullable = true)\n",
      " |-- CRSDepTime: integer (nullable = true)\n",
      " |-- DepartureTime: double (nullable = false)\n",
      " |-- DepartureDelay: double (nullable = false)\n",
      " |-- TaxiOut: double (nullable = false)\n",
      " |-- WheelsOff: double (nullable = false)\n",
      " |-- CRSArrivalTime: integer (nullable = true)\n",
      " |-- Cancelled: double (nullable = true)\n",
      " |-- CRSElapsedTime: double (nullable = true)\n",
      " |-- Distance: double (nullable = true)\n",
      " |-- DayofWeek: integer (nullable = true)\n",
      " |-- Month: integer (nullable = true)\n",
      " |-- Origin_Index: double (nullable = false)\n",
      " |-- Origin_Vec: vector (nullable = true)\n",
      " |-- Destination_Index: double (nullable = false)\n",
      " |-- Destination_Vec: vector (nullable = true)\n",
      " |-- CRSDepTime_Index: double (nullable = false)\n",
      " |-- CRSDepTime_Vec: vector (nullable = true)\n",
      " |-- DayofWeek_Index: double (nullable = false)\n",
      " |-- DayofWeek_Vec: vector (nullable = true)\n",
      " |-- Month_Index: double (nullable = false)\n",
      " |-- Month_Vec: vector (nullable = true)\n",
      " |-- label: double (nullable = false)\n",
      " |-- features: vector (nullable = true)\n",
      "\n"
     ]
    }
   ],
   "source": [
    "processed_df.printSchema()"
   ]
  },
  {
   "cell_type": "markdown",
   "metadata": {},
   "source": [
    "### Task 5: Modeling"
   ]
  },
  {
   "cell_type": "code",
   "execution_count": 18,
   "metadata": {},
   "outputs": [
    {
     "data": {
      "text/plain": [
       "DataFrame[label: double, features: vector]"
      ]
     },
     "execution_count": 18,
     "metadata": {},
     "output_type": "execute_result"
    }
   ],
   "source": [
    "# Split data (70% training, 30% testing)\n",
    "split_ratio = [0.7, 0.3]\n",
    "seed = 42 # Use a fixed seed for reproducibility\n",
    "\n",
    "train_data, test_data = model_input_df.randomSplit(split_ratio, seed=seed)\n",
    "\n",
    "# Cache the splits for performance during training and evaluation\n",
    "train_data.cache()\n",
    "test_data.cache()\n",
    "\n",
    "#print(f\"Training data count: {train_data.count()} ({(train_data.count() / model_input_df.count())*100:.1f}%)\")\n",
    "#print(f\"Test data count: {test_data.count()} ({(test_data.count() / model_input_df.count())*100:.1f}%)\")"
   ]
  },
  {
   "cell_type": "markdown",
   "metadata": {},
   "source": [
    "### Logistic Regression, Decision Tree , Random Forest and GBT models"
   ]
  },
  {
   "cell_type": "code",
   "execution_count": 19,
   "metadata": {},
   "outputs": [],
   "source": [
    "from pyspark.ml.classification import LogisticRegression, DecisionTreeClassifier, RandomForestClassifier, GBTClassifier\n",
    "\n",
    "# Define 4 models\n",
    "models = {\n",
    "    \"Logistic Regression\": LogisticRegression(labelCol=label_output_col, featuresCol=feature_output_col, maxIter=10, regParam=0.1, elasticNetParam=0.0),\n",
    "    \"Decision Tree\": DecisionTreeClassifier(labelCol=label_output_col, featuresCol=feature_output_col, maxDepth=5),\n",
    "    \"Random Forest\": RandomForestClassifier(labelCol=label_output_col, featuresCol=feature_output_col, numTrees=50),\n",
    "    \"Gradient Boosted Trees\": GBTClassifier(labelCol=label_output_col, featuresCol=feature_output_col, maxIter=20)\n",
    "}"
   ]
  },
  {
   "cell_type": "markdown",
   "metadata": {},
   "source": [
    "### Training models and Evaluating Accuracy and AUC"
   ]
  },
  {
   "cell_type": "code",
   "execution_count": 20,
   "metadata": {},
   "outputs": [
    {
     "name": "stdout",
     "output_type": "stream",
     "text": [
      "Logistic Regression - Accuracy: 0.9865, AUC: 0.7364\n",
      "Decision Tree - Accuracy: 0.9865, AUC: 0.4549\n",
      "Random Forest - Accuracy: 0.9865, AUC: 0.6660\n",
      "Gradient Boosted Trees - Accuracy: 0.9865, AUC: 0.7153\n"
     ]
    }
   ],
   "source": [
    "from pyspark.ml.evaluation import BinaryClassificationEvaluator, MulticlassClassificationEvaluator\n",
    "\n",
    "binary_evaluator = BinaryClassificationEvaluator(labelCol=\"label\", rawPredictionCol=\"rawPrediction\", metricName=\"areaUnderROC\")\n",
    "multi_evaluator = MulticlassClassificationEvaluator(labelCol=\"label\", predictionCol=\"prediction\", metricName=\"accuracy\")\n",
    "\n",
    "# Train and evaluate\n",
    "results = []\n",
    "for name, model in models.items():\n",
    "    trained_model = model.fit(train_data)\n",
    "    predictions = trained_model.transform(test_data)\n",
    "    \n",
    "    auc = binary_evaluator.evaluate(predictions)\n",
    "    accuracy = multi_evaluator.evaluate(predictions)\n",
    "    \n",
    "    print(f\"{name} - Accuracy: {accuracy:.4f}, AUC: {auc:.4f}\")\n",
    "    results.append((name, accuracy, auc))"
   ]
  },
  {
   "cell_type": "code",
   "execution_count": null,
   "metadata": {},
   "outputs": [],
   "source": []
  },
  {
   "cell_type": "code",
   "execution_count": null,
   "metadata": {},
   "outputs": [],
   "source": []
  },
  {
   "cell_type": "code",
   "execution_count": null,
   "metadata": {},
   "outputs": [],
   "source": []
  }
 ],
 "metadata": {
  "application/vnd.databricks.v1+notebook": {
   "dashboards": [],
   "language": "python",
   "notebookMetadata": {
    "mostRecentlyExecutedCommandWithImplicitDF": {
     "commandId": 109803845193651,
     "dataframes": [
      "_sqldf"
     ]
    },
    "pythonIndentUnit": 2
   },
   "notebookName": "Practice session - Graphframes",
   "notebookOrigID": 2259387480520179,
   "widgets": {}
  },
  "kernelspec": {
   "display_name": "Python 3 (ipykernel)",
   "language": "python",
   "name": "python3"
  },
  "language_info": {
   "codemirror_mode": {
    "name": "ipython",
    "version": 3
   },
   "file_extension": ".py",
   "mimetype": "text/x-python",
   "name": "python",
   "nbconvert_exporter": "python",
   "pygments_lexer": "ipython3",
   "version": "3.11.10"
  }
 },
 "nbformat": 4,
 "nbformat_minor": 4
}
