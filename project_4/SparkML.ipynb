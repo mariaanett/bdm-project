{
 "cells": [
  {
   "cell_type": "markdown",
   "metadata": {},
   "source": [
    "# Project 3: Big graphs\n",
    "\n",
    "The objective of this project is to use Spark’s APIs to analyze the flight interconnected data to predict the cancellation of flights."
   ]
  },
  {
   "cell_type": "markdown",
   "metadata": {
    "application/vnd.databricks.v1+cell": {
     "cellMetadata": {},
     "inputWidgets": {},
     "nuid": "92b18f53-5683-43db-bf6e-2080eebf8afc",
     "showTitle": false,
     "title": ""
    }
   },
   "source": [
    "## Task 1: Data Ingestion and Preparation"
   ]
  },
  {
   "cell_type": "markdown",
   "metadata": {},
   "source": [
    "### Session Setup"
   ]
  },
  {
   "cell_type": "code",
   "execution_count": 1,
   "metadata": {},
   "outputs": [],
   "source": [
    "import pyspark\n",
    "\n",
    "# Prepare the Spark builder\n",
    "spark = pyspark.sql.SparkSession.builder.appName(\"Project_4\") \\\n",
    "    .config(\"spark.driver.memory\", \"6g\") \\\n",
    "    .config(\"spark.driver.maxResultSize\", \"2g\") \\\n",
    "    .config(\"spark.executor.memory\", \"6g\") \\\n",
    "    .getOrCreate()\n",
    "\n",
    "spark.conf.set(\"spark.sql.execution.arrow.pyspark.enabled\", \"true\")\n",
    "spark.conf.set(\"spark.sql.shuffle.partitions\", 8)\n",
    "spark.conf.set(\"spark.sql.repl.eagerEval.truncate\", 500)"
   ]
  },
  {
   "cell_type": "code",
   "execution_count": 2,
   "metadata": {},
   "outputs": [],
   "source": [
    "import pyspark.sql.functions as F\n",
    "from pyspark.sql.types import *\n",
    "\n",
    "from pyspark.ml import Pipeline, PipelineModel\n",
    "from pyspark.ml.classification import LogisticRegression, DecisionTreeClassifier, RandomForestClassifier, GBTClassifier\n",
    "from pyspark.ml.evaluation import BinaryClassificationEvaluator, MulticlassClassificationEvaluator\n",
    "from pyspark.ml.tuning import CrossValidator, ParamGridBuilder\n",
    "from pyspark.ml.feature import MinMaxScaler, VectorAssembler, StringIndexer, OneHotEncoder, StringIndexerModel\n",
    "\n",
    "import matplotlib.pyplot as plt\n",
    "import pandas as pd\n",
    "\n",
    "import shutil\n",
    "import os"
   ]
  },
  {
   "cell_type": "markdown",
   "metadata": {},
   "source": [
    "### Data Ingestion"
   ]
  },
  {
   "cell_type": "code",
   "execution_count": 3,
   "metadata": {},
   "outputs": [],
   "source": [
    "schema = StructType([\n",
    "    StructField(\"FL_DATE\", DateType(), True),\n",
    "    StructField(\"OP_CARRIER\", StringType(), True),\n",
    "    StructField(\"OP_CARRIER_FL_NUM\", IntegerType(), True),\n",
    "    StructField(\"ORIGIN\", StringType(), True),\n",
    "    StructField(\"DEST\", StringType(), True),\n",
    "    StructField(\"CRS_DEP_TIME\", IntegerType(), True),\n",
    "    StructField(\"DEP_TIME\", DoubleType(), True),\n",
    "    StructField(\"DEP_DELAY\", DoubleType(), True),\n",
    "    StructField(\"TAXI_OUT\", DoubleType(), True),\n",
    "    StructField(\"WHEELS_OFF\", DoubleType(), True),\n",
    "    StructField(\"WHEELS_ON\", DoubleType(), True),\n",
    "    StructField(\"TAXI_IN\", DoubleType(), True),\n",
    "    StructField(\"CRS_ARR_TIME\", IntegerType(), True),\n",
    "    StructField(\"ARR_TIME\", DoubleType(), True),\n",
    "    StructField(\"ARR_DELAY\", DoubleType(), True),\n",
    "    StructField(\"CANCELLED\", DoubleType(), True),\n",
    "    StructField(\"CANCELLATION_CODE\", StringType(), True),\n",
    "    StructField(\"DIVERTED\", DoubleType(), True),\n",
    "    StructField(\"CRS_ELAPSED_TIME\", DoubleType(), True),\n",
    "    StructField(\"ACTUAL_ELAPSED_TIME\", DoubleType(), True),\n",
    "    StructField(\"AIR_TIME\", DoubleType(), True),\n",
    "    StructField(\"DISTANCE\", DoubleType(), True),\n",
    "    StructField(\"CARRIER_DELAY\", DoubleType(), True),\n",
    "    StructField(\"WEATHER_DELAY\", DoubleType(), True),\n",
    "    StructField(\"NAS_DELAY\", DoubleType(), True),\n",
    "    StructField(\"SECURITY_DELAY\", DoubleType(), True),\n",
    "    StructField(\"LATE_AIRCRAFT_DELAY\", DoubleType(), True),\n",
    "    StructField(\"Unnamed: 27\", StringType(), True)\n",
    "])\n",
    "\n",
    "# Reading in the datasets\n",
    "flight_df_csv = spark.read.csv(\"input/2009.csv\", header=True, schema=schema)"
   ]
  },
  {
   "cell_type": "markdown",
   "metadata": {},
   "source": [
    "### Partitioned Parquet"
   ]
  },
  {
   "cell_type": "code",
   "execution_count": 4,
   "metadata": {},
   "outputs": [],
   "source": [
    "parquet_path = \"output/parquet_data\"\n",
    "flight_df_csv.write.mode(\"overwrite\").partitionBy(\"CANCELLED\").parquet(parquet_path)"
   ]
  },
  {
   "cell_type": "code",
   "execution_count": 5,
   "metadata": {},
   "outputs": [
    {
     "name": "stdout",
     "output_type": "stream",
     "text": [
      "root\n",
      " |-- FL_DATE: date (nullable = true)\n",
      " |-- OP_CARRIER: string (nullable = true)\n",
      " |-- OP_CARRIER_FL_NUM: integer (nullable = true)\n",
      " |-- ORIGIN: string (nullable = true)\n",
      " |-- DEST: string (nullable = true)\n",
      " |-- CRS_DEP_TIME: integer (nullable = true)\n",
      " |-- DEP_TIME: double (nullable = true)\n",
      " |-- DEP_DELAY: double (nullable = true)\n",
      " |-- TAXI_OUT: double (nullable = true)\n",
      " |-- WHEELS_OFF: double (nullable = true)\n",
      " |-- WHEELS_ON: double (nullable = true)\n",
      " |-- TAXI_IN: double (nullable = true)\n",
      " |-- CRS_ARR_TIME: integer (nullable = true)\n",
      " |-- ARR_TIME: double (nullable = true)\n",
      " |-- ARR_DELAY: double (nullable = true)\n",
      " |-- CANCELLATION_CODE: string (nullable = true)\n",
      " |-- DIVERTED: double (nullable = true)\n",
      " |-- CRS_ELAPSED_TIME: double (nullable = true)\n",
      " |-- ACTUAL_ELAPSED_TIME: double (nullable = true)\n",
      " |-- AIR_TIME: double (nullable = true)\n",
      " |-- DISTANCE: double (nullable = true)\n",
      " |-- CARRIER_DELAY: double (nullable = true)\n",
      " |-- WEATHER_DELAY: double (nullable = true)\n",
      " |-- NAS_DELAY: double (nullable = true)\n",
      " |-- SECURITY_DELAY: double (nullable = true)\n",
      " |-- LATE_AIRCRAFT_DELAY: double (nullable = true)\n",
      " |-- Unnamed: 27: string (nullable = true)\n",
      " |-- CANCELLED: double (nullable = true)\n",
      "\n"
     ]
    }
   ],
   "source": [
    "flight_df = spark.read.parquet(parquet_path)\n",
    "flight_df.cache()\n",
    "flight_df.printSchema()"
   ]
  },
  {
   "cell_type": "markdown",
   "metadata": {},
   "source": [
    "## Task 2: Cleaning and Preprocessing "
   ]
  },
  {
   "cell_type": "markdown",
   "metadata": {},
   "source": [
    "### Renaming columns for consistency"
   ]
  },
  {
   "cell_type": "code",
   "execution_count": 6,
   "metadata": {},
   "outputs": [],
   "source": [
    "renamed_columns = [\n",
    "    \"Date\", \"UniqueCarrier\", \"FlightNumber\", \"Origin\", \"Destination\",\n",
    "    \"CRSDepTime\", \"DepartureTime\", \"DepartureDelay\", \"TaxiOut\", \"WheelsOff\",\n",
    "    \"WheelsOn\", \"TaxiIn\", \"CRSArrivalTime\", \"ArrivalTime\", \"ArrivalDelay\",\n",
    "    \"CancellationCode\", \"Diverted\", \"CRSElapsedTime\",\n",
    "    \"ActualElapsedTime\", \"AirTime\", \"Distance\", \"CarrierDelay\",\n",
    "    \"WeatherDelay\", \"NASDelay\", \"SecurityDelay\", \"LateAircraftDelay\",\n",
    "    \"UnusedColumn\", \"Cancelled\"\n",
    "]\n",
    "\n",
    "flight_df = flight_df.toDF(*renamed_columns)"
   ]
  },
  {
   "cell_type": "markdown",
   "metadata": {},
   "source": [
    "### Filtering out diverted flights"
   ]
  },
  {
   "cell_type": "code",
   "execution_count": 7,
   "metadata": {},
   "outputs": [],
   "source": [
    "flight_df = flight_df.filter(F.col(\"Diverted\") != 1)\n",
    "flight_df = flight_df.drop(\"Diverted\")"
   ]
  },
  {
   "cell_type": "markdown",
   "metadata": {},
   "source": [
    "### Balancing the dataframe\n",
    "\n",
    "The flight dataframe is heavily unbalanced and this made the model very biased. We included the same amount of cancelled and departed flights in the training data."
   ]
  },
  {
   "cell_type": "code",
   "execution_count": 8,
   "metadata": {},
   "outputs": [
    {
     "name": "stdout",
     "output_type": "stream",
     "text": [
      "0.0538 of departed flights are used.\n"
     ]
    }
   ],
   "source": [
    "cancelled_df = flight_df.filter(F.col(\"Cancelled\") == 1)\n",
    "departed_df = flight_df.filter(F.col(\"Cancelled\") == 0)\n",
    "\n",
    "cancelled_count = cancelled_df.count()\n",
    "departed_count = departed_df.count()\n",
    "\n",
    "# We slightly increased the ratio of departed fligths as original data is heavily unbalanced\n",
    "# 50-50 distibution leads the model to become too sensitive\n",
    "cancelled_ratio = 0.04 + cancelled_count / departed_count\n",
    "print(f\"{round(cancelled_ratio, 4)} of departed flights are used.\")\n",
    "\n",
    "sample = departed_df.sample(withReplacement=False, fraction=cancelled_ratio, seed=42)\n",
    "\n",
    "flight_df = cancelled_df.union(sample)"
   ]
  },
  {
   "cell_type": "markdown",
   "metadata": {},
   "source": [
    "### Creating day of week and month columns"
   ]
  },
  {
   "cell_type": "code",
   "execution_count": 9,
   "metadata": {},
   "outputs": [],
   "source": [
    "flight_df = flight_df.withColumn(\"DayofWeek\", F.dayofweek(\"Date\")) \\\n",
    "                     .withColumn(\"Month\", F.month(\"Date\"))"
   ]
  },
  {
   "cell_type": "markdown",
   "metadata": {},
   "source": [
    "### Handindling empty values\n",
    "\n",
    "As the goal of the model is to predict flight cancellation, only attributes that relate to events which have happened before the departure/ cancellation can be used for predictions. Therefore, columns such as WheelsOff, ArrivalTime etc. are removed from the training data."
   ]
  },
  {
   "cell_type": "code",
   "execution_count": 10,
   "metadata": {},
   "outputs": [],
   "source": [
    "# Removing columns which have only NULL values for all cancelled fligths (events which occur after successful take-off)\n",
    "# Including these would give an unfair advantage to the model\n",
    "flight_df = flight_df.drop(\"UnusedColumn\", \"LateAircraftDelay\", \"SecurityDelay\", \"NASDelay\", \"WeatherDelay\", \"CarrierDelay\", \"AirTime\", \"ActualElapsedTime\", \"ArrivalDelay\", \"ArrivalTime\", \"TaxiIn\", \"WheelsOn\")"
   ]
  },
  {
   "cell_type": "code",
   "execution_count": 11,
   "metadata": {},
   "outputs": [],
   "source": [
    "# Data missing for most cancelled flights, therefore, dropping seems like the best option\n",
    "flight_df = flight_df.drop(\"DepartureTime\", \"DepartureDelay\", \"TaxiOut\", \"WheelsOff\")"
   ]
  },
  {
   "cell_type": "markdown",
   "metadata": {},
   "source": [
    "### Creating Additional Features"
   ]
  },
  {
   "cell_type": "code",
   "execution_count": 12,
   "metadata": {},
   "outputs": [],
   "source": [
    "# Creating a column for seasons\n",
    "flight_df = flight_df.withColumn(\n",
    "    \"Season\",\n",
    "    F.when(F.col(\"Month\").isin(12, 1, 2), 0)\n",
    "    .when(F.col(\"Month\").isin(3, 4, 5), 1)\n",
    "    .when(F.col(\"Month\").isin(6, 7, 8), 2)\n",
    "    .when(F.col(\"Month\").isin(9, 10, 11), 3)\n",
    "    .otherwise(-1)\n",
    ")\n",
    "\n",
    "# Creating a column to differentiate weekends\n",
    "flight_df = flight_df.withColumn(\"IsWeekend\", F.when(F.col(\"DayofWeek\").isin([6, 7]), 1).otherwise(0))"
   ]
  },
  {
   "cell_type": "markdown",
   "metadata": {},
   "source": [
    "### Result of data cleaning and preprocessing"
   ]
  },
  {
   "cell_type": "code",
   "execution_count": 13,
   "metadata": {},
   "outputs": [
    {
     "data": {
      "text/html": [
       "<div>\n",
       "<style scoped>\n",
       "    .dataframe tbody tr th:only-of-type {\n",
       "        vertical-align: middle;\n",
       "    }\n",
       "\n",
       "    .dataframe tbody tr th {\n",
       "        vertical-align: top;\n",
       "    }\n",
       "\n",
       "    .dataframe thead th {\n",
       "        text-align: right;\n",
       "    }\n",
       "</style>\n",
       "<table border=\"1\" class=\"dataframe\">\n",
       "  <thead>\n",
       "    <tr style=\"text-align: right;\">\n",
       "      <th></th>\n",
       "      <th>summary</th>\n",
       "      <th>UniqueCarrier</th>\n",
       "      <th>FlightNumber</th>\n",
       "      <th>Origin</th>\n",
       "      <th>Destination</th>\n",
       "      <th>CRSDepTime</th>\n",
       "      <th>CRSArrivalTime</th>\n",
       "      <th>CancellationCode</th>\n",
       "      <th>CRSElapsedTime</th>\n",
       "      <th>Distance</th>\n",
       "      <th>Cancelled</th>\n",
       "      <th>DayofWeek</th>\n",
       "      <th>Month</th>\n",
       "      <th>Season</th>\n",
       "      <th>IsWeekend</th>\n",
       "    </tr>\n",
       "  </thead>\n",
       "  <tbody>\n",
       "    <tr>\n",
       "      <th>0</th>\n",
       "      <td>count</td>\n",
       "      <td>427008</td>\n",
       "      <td>427008</td>\n",
       "      <td>427008</td>\n",
       "      <td>427008</td>\n",
       "      <td>427008</td>\n",
       "      <td>427008</td>\n",
       "      <td>87038</td>\n",
       "      <td>427008</td>\n",
       "      <td>427008</td>\n",
       "      <td>427008</td>\n",
       "      <td>427008</td>\n",
       "      <td>427008</td>\n",
       "      <td>427008</td>\n",
       "      <td>427008</td>\n",
       "    </tr>\n",
       "    <tr>\n",
       "      <th>1</th>\n",
       "      <td>mean</td>\n",
       "      <td>None</td>\n",
       "      <td>2413.9736773081536</td>\n",
       "      <td>None</td>\n",
       "      <td>None</td>\n",
       "      <td>1325.7582949265588</td>\n",
       "      <td>1500.2559928619605</td>\n",
       "      <td>None</td>\n",
       "      <td>126.17752594799161</td>\n",
       "      <td>693.1668750936751</td>\n",
       "      <td>0.2038322467026379</td>\n",
       "      <td>3.930333857913669</td>\n",
       "      <td>6.315094799160671</td>\n",
       "      <td>1.4152685663968825</td>\n",
       "      <td>0.266142554706235</td>\n",
       "    </tr>\n",
       "    <tr>\n",
       "      <th>2</th>\n",
       "      <td>stddev</td>\n",
       "      <td>None</td>\n",
       "      <td>2100.6460321936916</td>\n",
       "      <td>None</td>\n",
       "      <td>None</td>\n",
       "      <td>457.4588449398627</td>\n",
       "      <td>473.04547859550496</td>\n",
       "      <td>None</td>\n",
       "      <td>67.46788925237584</td>\n",
       "      <td>542.2623097659691</td>\n",
       "      <td>0.40284617654672944</td>\n",
       "      <td>1.9523989258723915</td>\n",
       "      <td>3.4263883129623203</td>\n",
       "      <td>1.0960199693713946</td>\n",
       "      <td>0.44194021391504096</td>\n",
       "    </tr>\n",
       "    <tr>\n",
       "      <th>3</th>\n",
       "      <td>min</td>\n",
       "      <td>9E</td>\n",
       "      <td>1</td>\n",
       "      <td>ABE</td>\n",
       "      <td>ABE</td>\n",
       "      <td>3</td>\n",
       "      <td>1</td>\n",
       "      <td>A</td>\n",
       "      <td>1.0</td>\n",
       "      <td>11.0</td>\n",
       "      <td>0.0</td>\n",
       "      <td>1</td>\n",
       "      <td>1</td>\n",
       "      <td>0</td>\n",
       "      <td>0</td>\n",
       "    </tr>\n",
       "    <tr>\n",
       "      <th>4</th>\n",
       "      <td>max</td>\n",
       "      <td>YV</td>\n",
       "      <td>7816</td>\n",
       "      <td>YUM</td>\n",
       "      <td>YUM</td>\n",
       "      <td>2359</td>\n",
       "      <td>2359</td>\n",
       "      <td>D</td>\n",
       "      <td>660.0</td>\n",
       "      <td>4962.0</td>\n",
       "      <td>1.0</td>\n",
       "      <td>7</td>\n",
       "      <td>12</td>\n",
       "      <td>3</td>\n",
       "      <td>1</td>\n",
       "    </tr>\n",
       "  </tbody>\n",
       "</table>\n",
       "</div>"
      ],
      "text/plain": [
       "  summary UniqueCarrier        FlightNumber  Origin Destination  \\\n",
       "0   count        427008              427008  427008      427008   \n",
       "1    mean          None  2413.9736773081536    None        None   \n",
       "2  stddev          None  2100.6460321936916    None        None   \n",
       "3     min            9E                   1     ABE         ABE   \n",
       "4     max            YV                7816     YUM         YUM   \n",
       "\n",
       "           CRSDepTime      CRSArrivalTime CancellationCode  \\\n",
       "0              427008              427008            87038   \n",
       "1  1325.7582949265588  1500.2559928619605             None   \n",
       "2   457.4588449398627  473.04547859550496             None   \n",
       "3                   3                   1                A   \n",
       "4                2359                2359                D   \n",
       "\n",
       "       CRSElapsedTime           Distance            Cancelled  \\\n",
       "0              427008             427008               427008   \n",
       "1  126.17752594799161  693.1668750936751   0.2038322467026379   \n",
       "2   67.46788925237584  542.2623097659691  0.40284617654672944   \n",
       "3                 1.0               11.0                  0.0   \n",
       "4               660.0             4962.0                  1.0   \n",
       "\n",
       "            DayofWeek               Month              Season  \\\n",
       "0              427008              427008              427008   \n",
       "1   3.930333857913669   6.315094799160671  1.4152685663968825   \n",
       "2  1.9523989258723915  3.4263883129623203  1.0960199693713946   \n",
       "3                   1                   1                   0   \n",
       "4                   7                  12                   3   \n",
       "\n",
       "             IsWeekend  \n",
       "0               427008  \n",
       "1    0.266142554706235  \n",
       "2  0.44194021391504096  \n",
       "3                    0  \n",
       "4                    1  "
      ]
     },
     "execution_count": 13,
     "metadata": {},
     "output_type": "execute_result"
    }
   ],
   "source": [
    "flight_df.describe().toPandas()"
   ]
  },
  {
   "cell_type": "markdown",
   "metadata": {},
   "source": [
    "## Task 3: Exporatory Analysis"
   ]
  },
  {
   "cell_type": "markdown",
   "metadata": {},
   "source": [
    "### Top Carriers"
   ]
  },
  {
   "cell_type": "code",
   "execution_count": 14,
   "metadata": {},
   "outputs": [
    {
     "name": "stdout",
     "output_type": "stream",
     "text": [
      "+-------------+-----+\n",
      "|UniqueCarrier|Count|\n",
      "+-------------+-----+\n",
      "|           WN|68743|\n",
      "|           AA|38067|\n",
      "|           OO|36292|\n",
      "|           MQ|33344|\n",
      "|           DL|27374|\n",
      "|           US|26916|\n",
      "|           UA|26040|\n",
      "|           EV|21967|\n",
      "|           XE|21535|\n",
      "|           9E|18504|\n",
      "+-------------+-----+\n",
      "\n"
     ]
    }
   ],
   "source": [
    "# All flights\n",
    "top_carriers = (\n",
    "    flight_df.groupBy(\"UniqueCarrier\")\n",
    "           .agg(F.count(\"*\").alias(\"Count\"))\n",
    "           .orderBy(F.desc(\"Count\"))\n",
    "           .limit(10)\n",
    ")\n",
    "\n",
    "top_carriers.show()"
   ]
  },
  {
   "cell_type": "code",
   "execution_count": 15,
   "metadata": {},
   "outputs": [
    {
     "name": "stdout",
     "output_type": "stream",
     "text": [
      "+-------------+-----+\n",
      "|UniqueCarrier|Count|\n",
      "+-------------+-----+\n",
      "|           MQ|10695|\n",
      "|           AA| 9191|\n",
      "|           WN| 8405|\n",
      "|           OO| 7423|\n",
      "|           EV| 6314|\n",
      "|           UA| 6213|\n",
      "|           XE| 5193|\n",
      "|           OH| 5108|\n",
      "|           US| 5047|\n",
      "|           DL| 4799|\n",
      "+-------------+-----+\n",
      "\n"
     ]
    }
   ],
   "source": [
    "# Cancelled fligths\n",
    "top_carriers = (\n",
    "    cancelled_df.groupBy(\"UniqueCarrier\")\n",
    "           .agg(F.count(\"*\").alias(\"Count\"))\n",
    "           .orderBy(F.desc(\"Count\"))\n",
    "           .limit(10)\n",
    ")\n",
    "\n",
    "top_carriers.show()"
   ]
  },
  {
   "cell_type": "markdown",
   "metadata": {},
   "source": [
    "### Cancellation Reasons"
   ]
  },
  {
   "cell_type": "code",
   "execution_count": 16,
   "metadata": {},
   "outputs": [
    {
     "data": {
      "image/png": "[encoded data removed]",
      "text/plain": [
       "<Figure size 600x400 with 1 Axes>"
      ]
     },
     "metadata": {},
     "output_type": "display_data"
    }
   ],
   "source": [
    "cancellation_codes = (\n",
    "    cancelled_df.groupBy(\"CancellationCode\")\n",
    "           .agg(F.count(\"*\").alias(\"Count\"))\n",
    "           .orderBy(F.desc(\"Count\"))\n",
    ")\n",
    "\n",
    "cancellation_codes = cancellation_codes.select(\"CancellationCode\", \"Count\").collect()\n",
    "\n",
    "labels = [row[\"CancellationCode\"] for row in cancellation_codes]\n",
    "counts = [row[\"Count\"] for row in cancellation_codes]\n",
    "\n",
    "plt.figure(figsize=(6, 4))\n",
    "plt.bar(labels, counts)\n",
    "plt.title(\"Flight Cancellation Reasons\")\n",
    "plt.ylabel(\"Number of Cancellations\")\n",
    "plt.xlabel(\"Cancellation Code\")\n",
    "plt.tight_layout()\n",
    "plt.show()"
   ]
  },
  {
   "cell_type": "markdown",
   "metadata": {},
   "source": [
    "### Class Distribution and Inbalance"
   ]
  },
  {
   "cell_type": "code",
   "execution_count": 17,
   "metadata": {},
   "outputs": [
    {
     "name": "stdout",
     "output_type": "stream",
     "text": [
      "The original class imbalance ratio was 0.01376 .\n",
      "The class imbalance after balancing is 0.25602 .\n"
     ]
    },
    {
     "data": {
      "image/png": "[encoded data removed]",
      "text/plain": [
       "<Figure size 1000x400 with 2 Axes>"
      ]
     },
     "metadata": {},
     "output_type": "display_data"
    }
   ],
   "source": [
    "print(f\"The original class imbalance ratio was {round(cancelled_ratio - 0.04, 5)} .\")\n",
    "\n",
    "departed_balanced = sample.count() # the sample taken from departed_df\n",
    "\n",
    "cancelled_ratio = cancelled_count / departed_balanced\n",
    "print(f\"The class imbalance after balancing is {round(cancelled_ratio, 5)} .\")\n",
    "\n",
    "fig, axes = plt.subplots(1, 2, figsize=(10, 4))\n",
    "\n",
    "axes[0].bar(['Departed', 'Cancelled'], [departed_count, cancelled_count])\n",
    "axes[0].set_title('Original Class Distribution')\n",
    "axes[0].set_ylabel('Number of Flights')\n",
    "\n",
    "axes[1].bar(['Departed', 'Cancelled'], [departed_balanced, cancelled_count])\n",
    "axes[1].set_title('Balanced Class Distribution')\n",
    "\n",
    "plt.tight_layout()\n",
    "plt.show()"
   ]
  },
  {
   "cell_type": "markdown",
   "metadata": {},
   "source": [
    "## Task 4: Feature Engineering"
   ]
  },
  {
   "cell_type": "code",
   "execution_count": 18,
   "metadata": {},
   "outputs": [],
   "source": [
    "# Selected columns for the model\n",
    "categorical_cols = ['Origin', 'Destination', \"UniqueCarrier\"]\n",
    "numerical_cols = ['CRSDepTime', 'CRSArrivalTime', 'CRSElapsedTime', 'DayofWeek', 'Month', \"IsWeekend\", \"Distance\", \"Season\"]\n",
    "#numerical_cols = ['CRSDepTime', 'CRSArrivalTime', 'CRSElapsedTime',\"CRSArrTimeMinutes\", \"CRSDepTimeMinutes\", 'DayofWeek', 'Month', \"IsWeekend\", \"DepTimeBlock\", \"ArrTimeBlock\", \"Distance\", \"Season\", \"CRSDepHour\", \"CRSArrHour\"]"
   ]
  },
  {
   "cell_type": "markdown",
   "metadata": {},
   "source": [
    "### Processing categorical features with StringIndexer + OneHotEncoder"
   ]
  },
  {
   "cell_type": "code",
   "execution_count": 19,
   "metadata": {},
   "outputs": [
    {
     "name": "stdout",
     "output_type": "stream",
     "text": [
      "Defining stages for categorical features...\n",
      "  Added StringIndexer (Origin -> Origin_Index)\n",
      "  Added OneHotEncoder (Origin_Index -> Origin_Vec)\n",
      "  Added StringIndexer (Destination -> Destination_Index)\n",
      "  Added OneHotEncoder (Destination_Index -> Destination_Vec)\n",
      "  Added StringIndexer (UniqueCarrier -> UniqueCarrier_Index)\n",
      "  Added OneHotEncoder (UniqueCarrier_Index -> UniqueCarrier_Vec)\n"
     ]
    }
   ],
   "source": [
    "indexers_and_encoders = []\n",
    "print(\"Defining stages for categorical features...\")\n",
    "for cat_col in categorical_cols:\n",
    "    index_col = cat_col + \"_Index\"\n",
    "    vec_col = cat_col + \"_Vec\"\n",
    "\n",
    "    # Indexer Stage\n",
    "    string_indexer = StringIndexer(inputCol=cat_col, outputCol=index_col, handleInvalid='keep')\n",
    "    indexers_and_encoders.append(string_indexer)\n",
    "    print(f\"  Added StringIndexer ({cat_col} -> {index_col})\")\n",
    "\n",
    "    # Encoder Stage\n",
    "    encoder = OneHotEncoder(inputCols=[index_col], outputCols=[vec_col])\n",
    "    indexers_and_encoders.append(encoder)\n",
    "    print(f\"  Added OneHotEncoder ({index_col} -> {vec_col})\")\n",
    "\n",
    "# Keep track of the output vector column names for the assembler\n",
    "categorical_vec_cols = [col + \"_Vec\" for col in categorical_cols]"
   ]
  },
  {
   "cell_type": "markdown",
   "metadata": {},
   "source": [
    "### Label Indexing"
   ]
  },
  {
   "cell_type": "code",
   "execution_count": 20,
   "metadata": {},
   "outputs": [
    {
     "name": "stdout",
     "output_type": "stream",
     "text": [
      "Added StringIndexer for label (Cancelled -> label)\n"
     ]
    }
   ],
   "source": [
    "label_col = 'Cancelled'\n",
    "label_output_col = \"label\"\n",
    "\n",
    "label_indexer = StringIndexer(inputCol=label_col, outputCol=label_output_col)\n",
    "print(f\"Added StringIndexer for label ({label_col} -> {label_output_col})\")"
   ]
  },
  {
   "cell_type": "markdown",
   "metadata": {},
   "source": [
    "### Combining features with VectorAssembler"
   ]
  },
  {
   "cell_type": "code",
   "execution_count": 21,
   "metadata": {},
   "outputs": [
    {
     "name": "stdout",
     "output_type": "stream",
     "text": [
      "Added VectorAssembler to create 'features' from 11 columns\n"
     ]
    }
   ],
   "source": [
    "feature_output_col = \"features\"\n",
    "assembler_inputs = categorical_vec_cols + numerical_cols\n",
    "\n",
    "vector_assembler = VectorAssembler(inputCols=assembler_inputs, outputCol=feature_output_col, handleInvalid='skip')\n",
    "print(f\"Added VectorAssembler to create '{feature_output_col}' from {len(assembler_inputs)} columns\")"
   ]
  },
  {
   "cell_type": "markdown",
   "metadata": {},
   "source": [
    "### Preprocessing Pipeline"
   ]
  },
  {
   "cell_type": "code",
   "execution_count": 22,
   "metadata": {},
   "outputs": [
    {
     "name": "stdout",
     "output_type": "stream",
     "text": [
      "Total stages in preprocessing pipeline: 9\n",
      "Fitting preprocessing pipeline...\n",
      "Pipeline fitting complete.\n",
      "Transforming data with fitted pipeline...\n",
      "Data transformation complete.\n"
     ]
    },
    {
     "data": {
      "text/plain": [
       "DataFrame[label: double, features: vector]"
      ]
     },
     "execution_count": 22,
     "metadata": {},
     "output_type": "execute_result"
    }
   ],
   "source": [
    "# Add the MinMaxScaler after the VectorAssembler\n",
    "scaled_feature_col = \"scaledFeatures\"\n",
    "scaler = MinMaxScaler(inputCol=\"features\", outputCol=scaled_feature_col)\n",
    "\n",
    "# Combine all stages: indexing, encoding, label indexing, assembling, scaling\n",
    "all_stages = indexers_and_encoders + [label_indexer, vector_assembler, scaler]\n",
    "\n",
    "# Create pipeline\n",
    "preprocessing_pipeline = Pipeline(stages=all_stages)\n",
    "print(f\"Total stages in preprocessing pipeline: {len(all_stages)}\")\n",
    "\n",
    "# Fit the pipeline\n",
    "print(\"Fitting preprocessing pipeline...\")\n",
    "preprocessing_model = preprocessing_pipeline.fit(flight_df)\n",
    "print(\"Pipeline fitting complete.\")\n",
    "\n",
    "# Transform data\n",
    "print(\"Transforming data with fitted pipeline...\")\n",
    "processed_df = preprocessing_model.transform(flight_df)\n",
    "print(\"Data transformation complete.\")\n",
    "\n",
    "# Select only the scaled features and label\n",
    "model_input_df = processed_df.select(label_output_col, scaled_feature_col)\n",
    "model_input_df = model_input_df.withColumnRenamed(scaled_feature_col, \"features\")  # Rename for modeling\n",
    "model_input_df.cache()"
   ]
  },
  {
   "cell_type": "markdown",
   "metadata": {},
   "source": [
    "## Task 5: Modeling"
   ]
  },
  {
   "cell_type": "code",
   "execution_count": 23,
   "metadata": {},
   "outputs": [
    {
     "data": {
      "text/plain": [
       "DataFrame[label: double, features: vector]"
      ]
     },
     "execution_count": 23,
     "metadata": {},
     "output_type": "execute_result"
    }
   ],
   "source": [
    "# Split data (70% training, 30% testing)\n",
    "split_ratio = [0.7, 0.3]\n",
    "train_data, test_data = model_input_df.randomSplit(split_ratio, seed=42)\n",
    "\n",
    "# Cache the splits for performance during training and evaluation\n",
    "train_data.cache()\n",
    "test_data.cache()"
   ]
  },
  {
   "cell_type": "markdown",
   "metadata": {},
   "source": [
    "### Logistic Regression, Decision Tree , Random Forest and GBT models"
   ]
  },
  {
   "cell_type": "code",
   "execution_count": 24,
   "metadata": {},
   "outputs": [],
   "source": [
    "models = {\n",
    "    \"Logistic Regression\": LogisticRegression(labelCol=label_output_col, featuresCol=feature_output_col, maxIter=50, regParam=0.01, elasticNetParam=0.5),\n",
    "    \"Decision Tree\": DecisionTreeClassifier(labelCol=label_output_col, featuresCol=feature_output_col, maxDepth=10, impurity=\"gini\", minInstancesPerNode=10),\n",
    "    \"Random Forest\": RandomForestClassifier(labelCol=label_output_col, featuresCol=feature_output_col, numTrees=50, maxDepth=10, subsamplingRate=0.8),\n",
    "    \"Gradient Boosted Trees\": GBTClassifier(labelCol=label_output_col, featuresCol=feature_output_col, maxIter=50, maxDepth=5, stepSize=0.1)\n",
    "}"
   ]
  },
  {
   "cell_type": "markdown",
   "metadata": {},
   "source": [
    "### Training models and Evaluating Accuracy and AUC"
   ]
  },
  {
   "cell_type": "code",
   "execution_count": 25,
   "metadata": {},
   "outputs": [],
   "source": [
    "binary_evaluator = BinaryClassificationEvaluator(labelCol=\"label\", rawPredictionCol=\"rawPrediction\", metricName=\"areaUnderROC\")\n",
    "multi_evaluator = MulticlassClassificationEvaluator(labelCol=\"label\", predictionCol=\"prediction\", metricName=\"accuracy\")"
   ]
  },
  {
   "cell_type": "code",
   "execution_count": 26,
   "metadata": {},
   "outputs": [
    {
     "name": "stdout",
     "output_type": "stream",
     "text": [
      "Logistic Regression - Accuracy: 0.7998, AUC: 0.7262\n",
      "Decision Tree - Accuracy: 0.8077, AUC: 0.5192\n",
      "Random Forest - Accuracy: 0.7971, AUC: 0.7308\n",
      "Gradient Boosted Trees - Accuracy: 0.8116, AUC: 0.7633\n"
     ]
    }
   ],
   "source": [
    "for name, model in models.items():\n",
    "    trained_model = model.fit(train_data)\n",
    "    predictions = trained_model.transform(test_data)\n",
    "    \n",
    "    auc = binary_evaluator.evaluate(predictions)\n",
    "    accuracy = multi_evaluator.evaluate(predictions)\n",
    "    \n",
    "    print(f\"{name} - Accuracy: {accuracy:.4f}, AUC: {auc:.4f}\")"
   ]
  },
  {
   "cell_type": "markdown",
   "metadata": {},
   "source": [
    "### Cross-Validation"
   ]
  },
  {
   "cell_type": "code",
   "execution_count": 27,
   "metadata": {},
   "outputs": [
    {
     "name": "stdout",
     "output_type": "stream",
     "text": [
      "Logistic Regression - Accuracy: 0.8008, AUC: 0.7432\n"
     ]
    }
   ],
   "source": [
    "# Logistic Regression\n",
    "lr = LogisticRegression(labelCol=label_output_col, featuresCol=feature_output_col, maxIter=50, threshold=0.6)\n",
    "lr_param_grid = ParamGridBuilder()\\\n",
    "    .addGrid(LogisticRegression.regParam, [0.001, 0.01, 0.1])\\\n",
    "    .addGrid(LogisticRegression.elasticNetParam, [0.0, 0.5, 1.0])\\\n",
    "    .build()\n",
    "\n",
    "lr_cv = CrossValidator(\n",
    "    estimator=lr,\n",
    "    estimatorParamMaps=lr_param_grid,\n",
    "    evaluator=binary_evaluator,\n",
    "    numFolds=3,\n",
    "    seed=42\n",
    ")\n",
    "lr_cv_model = lr_cv.fit(train_data)\n",
    "lr_best_model = lr_cv_model.bestModel\n",
    "\n",
    "lr_predictions = lr_best_model.transform(test_data)\n",
    "\n",
    "lr_auc = binary_evaluator.evaluate(lr_predictions)\n",
    "lr_accuracy = multi_evaluator.evaluate(lr_predictions)\n",
    "print(f\"Logistic Regression - Accuracy: {lr_accuracy:.4f}, AUC: {lr_auc:.4f}\")"
   ]
  },
  {
   "cell_type": "code",
   "execution_count": 28,
   "metadata": {},
   "outputs": [
    {
     "name": "stdout",
     "output_type": "stream",
     "text": [
      "Decision Tree - Accuracy: 0.7990, AUC: 0.5876\n"
     ]
    }
   ],
   "source": [
    "# Decision Tree\n",
    "dt = DecisionTreeClassifier(labelCol=label_output_col, featuresCol=feature_output_col, impurity=\"gini\")\n",
    "dt_param_grid = ParamGridBuilder()\\\n",
    "    .addGrid(DecisionTreeClassifier.maxDepth, [5, 10, 15])\\\n",
    "    .addGrid(DecisionTreeClassifier.minInstancesPerNode, [1, 5, 10])\\\n",
    "    .build()\n",
    "\n",
    "dt_cv = CrossValidator(\n",
    "    estimator=dt,\n",
    "    estimatorParamMaps=dt_param_grid,\n",
    "    evaluator=binary_evaluator,\n",
    "    numFolds=3,\n",
    "    seed=42\n",
    ")\n",
    "dt_cv_model = dt_cv.fit(train_data)\n",
    "dt_best_model = dt_cv_model.bestModel\n",
    "\n",
    "dt_predictions = dt_best_model.transform(test_data)\n",
    "\n",
    "dt_auc = binary_evaluator.evaluate(dt_predictions)\n",
    "dt_accuracy = multi_evaluator.evaluate(dt_predictions)\n",
    "print(f\"Decision Tree - Accuracy: {dt_accuracy:.4f}, AUC: {dt_auc:.4f}\")"
   ]
  },
  {
   "cell_type": "code",
   "execution_count": 29,
   "metadata": {},
   "outputs": [
    {
     "name": "stdout",
     "output_type": "stream",
     "text": [
      "Random Forest - Accuracy: 0.7971, AUC: 0.6961\n"
     ]
    }
   ],
   "source": [
    "# Random Forest\n",
    "rf = RandomForestClassifier(labelCol=label_output_col, featuresCol=feature_output_col, subsamplingRate=0.8)\n",
    "rf_param_grid = ParamGridBuilder()\\\n",
    "    .addGrid(RandomForestClassifier.numTrees, [50, 100])\\\n",
    "    .addGrid(RandomForestClassifier.maxDepth, [5, 10])\\\n",
    "    .addGrid(RandomForestClassifier.featureSubsetStrategy, [\"auto\", \"sqrt\", \"log2\"])\\\n",
    "    .build()\n",
    "\n",
    "rf_cv = CrossValidator(\n",
    "    estimator=rf,\n",
    "    estimatorParamMaps=rf_param_grid,\n",
    "    evaluator=binary_evaluator,\n",
    "    numFolds=3,\n",
    "    seed=42\n",
    ")\n",
    "rf_cv_model = rf_cv.fit(train_data)\n",
    "rf_best_model = rf_cv_model.bestModel\n",
    "\n",
    "rf_predictions = rf_best_model.transform(test_data)\n",
    "\n",
    "rf_auc = binary_evaluator.evaluate(rf_predictions)\n",
    "rf_accuracy = multi_evaluator.evaluate(rf_predictions)\n",
    "print(f\"Random Forest - Accuracy: {rf_accuracy:.4f}, AUC: {rf_auc:.4f}\")"
   ]
  },
  {
   "cell_type": "code",
   "execution_count": 30,
   "metadata": {},
   "outputs": [
    {
     "name": "stdout",
     "output_type": "stream",
     "text": [
      "Gradient Boosted Trees - Accuracy: 0.8056, AUC: 0.7427\n"
     ]
    }
   ],
   "source": [
    "# Gradient Boosted Trees\n",
    "gbt = GBTClassifier(labelCol=label_output_col, featuresCol=feature_output_col, maxIter=20)\n",
    "gbt_param_grid = ParamGridBuilder()\\\n",
    "    .addGrid(GBTClassifier.maxDepth, [5, 10])\\\n",
    "    .addGrid(GBTClassifier.stepSize, [0.05, 0.1])\\\n",
    "    .build()\n",
    "\n",
    "gbt_cv = CrossValidator(\n",
    "    estimator=gbt,\n",
    "    estimatorParamMaps=gbt_param_grid,\n",
    "    evaluator=binary_evaluator,\n",
    "    numFolds=3,\n",
    "    seed=42\n",
    ")\n",
    "gbt_cv_model = gbt_cv.fit(train_data)\n",
    "gbt_best_model = gbt_cv_model.bestModel\n",
    "\n",
    "gbt_predictions = gbt_best_model.transform(test_data)\n",
    "\n",
    "gbt_auc = binary_evaluator.evaluate(gbt_predictions)\n",
    "gbt_accuracy = multi_evaluator.evaluate(gbt_predictions)\n",
    "print(f\"Gradient Boosted Trees - Accuracy: {gbt_accuracy:.4f}, AUC: {gbt_auc:.4f}\")"
   ]
  },
  {
   "cell_type": "code",
   "execution_count": 31,
   "metadata": {},
   "outputs": [
    {
     "name": "stdout",
     "output_type": "stream",
     "text": [
      "+-----+------+\n",
      "|Group| count|\n",
      "+-----+------+\n",
      "|   FN| 23711|\n",
      "|   TP|  2276|\n",
      "|   FP|  1187|\n",
      "|   TN|100876|\n",
      "+-----+------+\n",
      "\n"
     ]
    }
   ],
   "source": [
    "# Confusion matrix\n",
    "df_conf = gbt_predictions.withColumn(\n",
    "    \"Group\",\n",
    "    F.when((F.col(\"label\") == 1) & (F.col(\"prediction\") == 1), \"TP\")\n",
    "    .when((F.col(\"label\") == 0) & (F.col(\"prediction\") == 1), \"FP\")\n",
    "    .when((F.col(\"label\") == 0) & (F.col(\"prediction\") == 0), \"TN\")\n",
    "    .when((F.col(\"label\") == 1) & (F.col(\"prediction\") == 0), \"FN\")\n",
    ")\n",
    "\n",
    "confusion_counts = df_conf.groupBy(\"Group\").count()\n",
    "confusion_counts.show()"
   ]
  },
  {
   "cell_type": "markdown",
   "metadata": {},
   "source": [
    "## Task 6: Explainability\n",
    "\n",
    "Extracting feature importances from the best Gradient Boosted Trees model"
   ]
  },
  {
   "cell_type": "code",
   "execution_count": 32,
   "metadata": {},
   "outputs": [
    {
     "data": {
      "image/png": "[encoded data removed]",
      "text/plain": [
       "<Figure size 1200x800 with 1 Axes>"
      ]
     },
     "metadata": {},
     "output_type": "display_data"
    }
   ],
   "source": [
    "# Extreacting categorial feature names\n",
    "categorical_feature_names = []\n",
    "for cat_col in categorical_cols:\n",
    "    indexer = [stage for stage in preprocessing_model.stages \n",
    "                     if isinstance(stage, StringIndexerModel) and stage.getInputCol() == cat_col]\n",
    "    labels = indexer[0].labels\n",
    "    one_hot_names = [f\"{cat_col}_{label}\" for label in labels]\n",
    "    categorical_feature_names.extend(one_hot_names)\n",
    "\n",
    "# combine with numerical feature names\n",
    "all_feature_names = categorical_feature_names + numerical_cols\n",
    "\n",
    "# Extracting feature importances\n",
    "importances = gbt_best_model.featureImportances.toArray()\n",
    "\n",
    "# Create a df for plotting\n",
    "feature_df = pd.DataFrame({\n",
    "    \"feature\": all_feature_names,\n",
    "    \"importance\": importances\n",
    "}).sort_values(by=\"importance\", ascending=False)\n",
    "\n",
    "# Plotting top features\n",
    "plt.figure(figsize=(12, 8))\n",
    "plt.barh(feature_df[\"feature\"].head(30), feature_df[\"importance\"].head(30))\n",
    "plt.xlabel(\"Feature Importance\")\n",
    "plt.title(\"Top 30 Feature Importances\")\n",
    "plt.gca().invert_yaxis()\n",
    "plt.tight_layout()\n",
    "plt.show()"
   ]
  },
  {
   "cell_type": "markdown",
   "metadata": {},
   "source": [
    "## Task 7: Model Persistence and Inference"
   ]
  },
  {
   "cell_type": "code",
   "execution_count": 33,
   "metadata": {},
   "outputs": [
    {
     "name": "stdout",
     "output_type": "stream",
     "text": [
      "Removed previous model directory: ./model/best_model\n",
      "Removed previous pipeline directory: ./model/preprocessing_pipeline\n",
      "Best model saved to: ./model/best_model\n",
      "Preprocessing pipeline model saved to: ./model/preprocessing_pipeline\n"
     ]
    }
   ],
   "source": [
    "# Paths for saving\n",
    "output_base_dir = \"./model\"\n",
    "best_model_path = os.path.join(output_base_dir, \"best_model\")\n",
    "pipeline_path = os.path.join(output_base_dir, \"preprocessing_pipeline\")\n",
    "\n",
    "# Creating the base directory if it doesn't exist\n",
    "os.makedirs(output_base_dir, exist_ok=True)\n",
    "\n",
    "# Cleaning up previous saves if they exist\n",
    "try:\n",
    "    if os.path.exists(best_model_path):\n",
    "        shutil.rmtree(best_model_path)\n",
    "        print(f\"Removed previous model directory: {best_model_path}\")\n",
    "    if os.path.exists(pipeline_path):\n",
    "        shutil.rmtree(pipeline_path)\n",
    "        print(f\"Removed previous pipeline directory: {pipeline_path}\")\n",
    "except OSError as e:\n",
    "    print(f\"Error removing directories: {e}\")\n",
    "\n",
    "# Saving the best Gradient Boosted Trees model found via CV\n",
    "gbt_best_model.write().overwrite().save(best_model_path)\n",
    "print(f\"Best model saved to: {best_model_path}\")\n",
    "\n",
    "# Saving the preprocessing pipeline model\n",
    "preprocessing_model.write().overwrite().save(pipeline_path)\n",
    "print(f\"Preprocessing pipeline model saved to: {pipeline_path}\")"
   ]
  },
  {
   "cell_type": "markdown",
   "metadata": {},
   "source": [
    "### Preparing 2010 test data\n",
    "\n",
    "Repeating all the preprocessing and cleaning steps as on the training data and the preprocessing model trained on training data."
   ]
  },
  {
   "cell_type": "code",
   "execution_count": 34,
   "metadata": {},
   "outputs": [
    {
     "name": "stdout",
     "output_type": "stream",
     "text": [
      "Test data transformation complete.\n"
     ]
    }
   ],
   "source": [
    "test_df = spark.read.csv(\"input/2010.csv\", header=True, schema=schema)\n",
    "test_df.cache()\n",
    "\n",
    "renamed_columns = [\n",
    "    \"Date\", \"UniqueCarrier\", \"FlightNumber\", \"Origin\", \"Destination\",\n",
    "    \"CRSDepTime\", \"DepartureTime\", \"DepartureDelay\", \"TaxiOut\", \"WheelsOff\",\n",
    "    \"WheelsOn\", \"TaxiIn\", \"CRSArrivalTime\", \"ArrivalTime\", \"ArrivalDelay\",\n",
    "    \"Cancelled\", \"CancellationCode\", \"Diverted\", \"CRSElapsedTime\",\n",
    "    \"ActualElapsedTime\", \"AirTime\", \"Distance\", \"CarrierDelay\",\n",
    "    \"WeatherDelay\", \"NASDelay\", \"SecurityDelay\", \"LateAircraftDelay\",\n",
    "    \"UnusedColumn\"\n",
    "]\n",
    "\n",
    "test_df = test_df.toDF(*renamed_columns)\n",
    "\n",
    "test_df = test_df.filter(F.col(\"Diverted\") != 1)\n",
    "test_df = test_df.drop(\"Diverted\")\n",
    "\n",
    "test_df = test_df.withColumn(\"DayofWeek\", F.dayofweek(\"Date\")) \\\n",
    "                     .withColumn(\"Month\", F.month(\"Date\"))\n",
    "\n",
    "test_df = test_df.drop(\"UnusedColumn\", \"LateAircraftDelay\", \"SecurityDelay\", \"NASDelay\", \"WeatherDelay\", \"CarrierDelay\", \"AirTime\", \"ActualElapsedTime\", \"ArrivalDelay\", \"ArrivalTime\", \"TaxiIn\", \"WheelsOn\", \"CancellationCode\")\n",
    "test_df = test_df.drop(\"DepartureTime\", \"DepartureDelay\", \"TaxiOut\", \"WheelsOff\")\n",
    "\n",
    "# season\n",
    "test_df = test_df.withColumn(\n",
    "    \"Season\",\n",
    "    F.when(F.col(\"Month\").isin(12, 1, 2), 0)\n",
    "    .when(F.col(\"Month\").isin(3, 4, 5), 1)\n",
    "    .when(F.col(\"Month\").isin(6, 7, 8), 2)\n",
    "    .when(F.col(\"Month\").isin(9, 10, 11), 3)\n",
    "    .otherwise(-1)\n",
    ")\n",
    "\n",
    "# weekend\n",
    "test_df = test_df.withColumn(\"IsWeekend\", F.when(F.col(\"DayofWeek\").isin([6, 7]), 1).otherwise(0))\n",
    "\n",
    "# Transform the 2010 test data\n",
    "processed_df = preprocessing_model.transform(test_df) \n",
    "\n",
    "# Select only the relevant columns for modeling: 'label' and 'features'\n",
    "test_data_2010 = processed_df.select(label_output_col, feature_output_col)\n",
    "test_data_2010.cache()\n",
    "\n",
    "print(\"Test data transformation complete.\")"
   ]
  },
  {
   "cell_type": "markdown",
   "metadata": {},
   "source": [
    "### Evaluating Best Model on 2010 Data"
   ]
  },
  {
   "cell_type": "code",
   "execution_count": 35,
   "metadata": {},
   "outputs": [
    {
     "name": "stdout",
     "output_type": "stream",
     "text": [
      "Accuracy: 0.7653, AUC: 0.6897\n"
     ]
    }
   ],
   "source": [
    "# Evaluate on test data\n",
    "predictions = gbt_best_model.transform(test_data_2010)\n",
    "auc = binary_evaluator.evaluate(predictions)\n",
    "accuracy = multi_evaluator.evaluate(predictions)\n",
    "\n",
    "print(f\"Accuracy: {accuracy:.4f}, AUC: {auc:.4f}\")"
   ]
  },
  {
   "cell_type": "code",
   "execution_count": 36,
   "metadata": {},
   "outputs": [
    {
     "name": "stdout",
     "output_type": "stream",
     "text": [
      "+-----+-------+\n",
      "|Group|  count|\n",
      "+-----+-------+\n",
      "|   FP|1455423|\n",
      "|   TN|4865965|\n",
      "|   FN|  54516|\n",
      "|   TP|  58731|\n",
      "+-----+-------+\n",
      "\n"
     ]
    }
   ],
   "source": [
    "# Confusion matrix\n",
    "df_conf = predictions.withColumn(\n",
    "    \"Group\",\n",
    "    F.when((F.col(\"label\") == 1) & (F.col(\"prediction\") == 1), \"TP\")\n",
    "    .when((F.col(\"label\") == 0) & (F.col(\"prediction\") == 1), \"FP\")\n",
    "    .when((F.col(\"label\") == 0) & (F.col(\"prediction\") == 0), \"TN\")\n",
    "    .when((F.col(\"label\") == 1) & (F.col(\"prediction\") == 0), \"FN\")\n",
    ")\n",
    "\n",
    "# Count each group\n",
    "confusion_counts = df_conf.groupBy(\"Group\").count()\n",
    "confusion_counts.show()"
   ]
  }
 ],
 "metadata": {
  "application/vnd.databricks.v1+notebook": {
   "dashboards": [],
   "language": "python",
   "notebookMetadata": {
    "mostRecentlyExecutedCommandWithImplicitDF": {
     "commandId": 109803845193651,
     "dataframes": [
      "_sqldf"
     ]
    },
    "pythonIndentUnit": 2
   },
   "notebookName": "Practice session - Graphframes",
   "notebookOrigID": 2259387480520179,
   "widgets": {}
  },
  "kernelspec": {
   "display_name": "Python 3 (ipykernel)",
   "language": "python",
   "name": "python3"
  },
  "language_info": {
   "codemirror_mode": {
    "name": "ipython",
    "version": 3
   },
   "file_extension": ".py",
   "mimetype": "text/x-python",
   "name": "python",
   "nbconvert_exporter": "python",
   "pygments_lexer": "ipython3",
   "version": "3.11.10"
  }
 },
 "nbformat": 4,
 "nbformat_minor": 4
}