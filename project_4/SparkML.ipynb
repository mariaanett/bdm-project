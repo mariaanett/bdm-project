{
 "cells": [
  {
   "cell_type": "markdown",
   "metadata": {},
   "source": [
    "# Project 3: Big graphs\n",
    "\n",
    "The objective of this project is to use Spark’s APIs to analyze the flight interconnected data to understand the popularity of the airports and flight patterns."
   ]
  },
  {
   "cell_type": "markdown",
   "metadata": {
    "application/vnd.databricks.v1+cell": {
     "cellMetadata": {},
     "inputWidgets": {},
     "nuid": "92b18f53-5683-43db-bf6e-2080eebf8afc",
     "showTitle": false,
     "title": ""
    }
   },
   "source": [
    "## Task 1: Data Ingestion and Preparation"
   ]
  },
  {
   "cell_type": "markdown",
   "metadata": {},
   "source": [
    "### Session Setup"
   ]
  },
  {
   "cell_type": "code",
   "execution_count": 1,
   "metadata": {},
   "outputs": [],
   "source": [
    "import pyspark\n",
    "\n",
    "# Prepare the Spark builder\n",
    "spark = pyspark.sql.SparkSession.builder.appName(\"Project_4\") \\\n",
    "    .config(\"spark.driver.memory\", \"8g\") \\\n",
    "    .config(\"spark.executor.memory\", \"16g\") \\\n",
    "    .getOrCreate()\n",
    "\n",
    "spark.conf.set(\"spark.sql.execution.arrow.pyspark.enabled\", \"true\")\n",
    "spark.conf.set(\"spark.sql.shuffle.partitions\", spark._sc.defaultParallelism)\n",
    "spark.conf.set(\"spark.sql.repl.eagerEval.truncate\", 500)"
   ]
  },
  {
   "cell_type": "code",
   "execution_count": 2,
   "metadata": {},
   "outputs": [],
   "source": [
    "import pyspark.sql.functions as F\n",
    "from pyspark.sql.types import *"
   ]
  },
  {
   "cell_type": "markdown",
   "metadata": {},
   "source": [
    "### Data Ingestion"
   ]
  },
  {
   "cell_type": "code",
   "execution_count": 3,
   "metadata": {},
   "outputs": [
    {
     "data": {
      "text/plain": [
       "DataFrame[FL_DATE: date, OP_CARRIER: string, OP_CARRIER_FL_NUM: int, ORIGIN: string, DEST: string, CRS_DEP_TIME: int, DEP_TIME: double, DEP_DELAY: double, TAXI_OUT: double, WHEELS_OFF: double, WHEELS_ON: double, TAXI_IN: double, CRS_ARR_TIME: int, ARR_TIME: double, ARR_DELAY: double, CANCELLED: double, CANCELLATION_CODE: string, DIVERTED: double, CRS_ELAPSED_TIME: double, ACTUAL_ELAPSED_TIME: double, AIR_TIME: double, DISTANCE: double, CARRIER_DELAY: double, WEATHER_DELAY: double, NAS_DELAY: double, SECURITY_DELAY: double, LATE_AIRCRAFT_DELAY: double, Unnamed: 27: string]"
      ]
     },
     "execution_count": 3,
     "metadata": {},
     "output_type": "execute_result"
    }
   ],
   "source": [
    "schema = StructType([\n",
    "    StructField(\"FL_DATE\", DateType(), True),\n",
    "    StructField(\"OP_CARRIER\", StringType(), True),\n",
    "    StructField(\"OP_CARRIER_FL_NUM\", IntegerType(), True),\n",
    "    StructField(\"ORIGIN\", StringType(), True),\n",
    "    StructField(\"DEST\", StringType(), True),\n",
    "    StructField(\"CRS_DEP_TIME\", IntegerType(), True),\n",
    "    StructField(\"DEP_TIME\", DoubleType(), True),\n",
    "    StructField(\"DEP_DELAY\", DoubleType(), True),\n",
    "    StructField(\"TAXI_OUT\", DoubleType(), True),\n",
    "    StructField(\"WHEELS_OFF\", DoubleType(), True),\n",
    "    StructField(\"WHEELS_ON\", DoubleType(), True),\n",
    "    StructField(\"TAXI_IN\", DoubleType(), True),\n",
    "    StructField(\"CRS_ARR_TIME\", IntegerType(), True),\n",
    "    StructField(\"ARR_TIME\", DoubleType(), True),\n",
    "    StructField(\"ARR_DELAY\", DoubleType(), True),\n",
    "    StructField(\"CANCELLED\", DoubleType(), True),\n",
    "    StructField(\"CANCELLATION_CODE\", StringType(), True),\n",
    "    StructField(\"DIVERTED\", DoubleType(), True),\n",
    "    StructField(\"CRS_ELAPSED_TIME\", DoubleType(), True),\n",
    "    StructField(\"ACTUAL_ELAPSED_TIME\", DoubleType(), True),\n",
    "    StructField(\"AIR_TIME\", DoubleType(), True),\n",
    "    StructField(\"DISTANCE\", DoubleType(), True),\n",
    "    StructField(\"CARRIER_DELAY\", DoubleType(), True),\n",
    "    StructField(\"WEATHER_DELAY\", DoubleType(), True),\n",
    "    StructField(\"NAS_DELAY\", DoubleType(), True),\n",
    "    StructField(\"SECURITY_DELAY\", DoubleType(), True),\n",
    "    StructField(\"LATE_AIRCRAFT_DELAY\", DoubleType(), True),\n",
    "    StructField(\"Unnamed: 27\", StringType(), True)\n",
    "])\n",
    "\n",
    "# Reading in the datasets\n",
    "flight_df = spark.read.csv(\"input/2009.csv\", header=True, schema=schema)\n",
    "test_df = spark.read.csv(\"input/2010.csv\", header=True, schema=schema)\n",
    "\n",
    "flight_df.cache()"
   ]
  },
  {
   "cell_type": "markdown",
   "metadata": {},
   "source": [
    "### Partitioned Parquet\n",
    "\n",
    "TBA"
   ]
  },
  {
   "cell_type": "markdown",
   "metadata": {},
   "source": [
    "## Task 2: Cleaning and Preprocessing "
   ]
  },
  {
   "cell_type": "markdown",
   "metadata": {},
   "source": [
    "### Renaming columns for consistency"
   ]
  },
  {
   "cell_type": "code",
   "execution_count": 4,
   "metadata": {},
   "outputs": [],
   "source": [
    "renamed_columns = [\n",
    "    \"Date\", \"UniqueCarrier\", \"FlightNumber\", \"Origin\", \"Destination\",\n",
    "    \"CRSDepTime\", \"DepartureTime\", \"DepartureDelay\", \"TaxiOut\", \"WheelsOff\",\n",
    "    \"WheelsOn\", \"TaxiIn\", \"CRSArrivalTime\", \"ArrivalTime\", \"ArrivalDelay\",\n",
    "    \"Cancelled\", \"CancellationCode\", \"Diverted\", \"CRSElapsedTime\",\n",
    "    \"ActualElapsedTime\", \"AirTime\", \"Distance\", \"CarrierDelay\",\n",
    "    \"WeatherDelay\", \"NASDelay\", \"SecurityDelay\", \"LateAircraftDelay\",\n",
    "    \"UnusedColumn\"\n",
    "]\n",
    "\n",
    "flight_df = flight_df.toDF(*renamed_columns)\n",
    "test_df = test_df.toDF(*renamed_columns)"
   ]
  },
  {
   "cell_type": "markdown",
   "metadata": {},
   "source": [
    "### Creating day of week and month columns"
   ]
  },
  {
   "cell_type": "code",
   "execution_count": 5,
   "metadata": {},
   "outputs": [],
   "source": [
    "flight_df = flight_df.withColumn(\"DayofWeek\", F.dayofweek(\"Date\")) \\\n",
    "                     .withColumn(\"Month\", F.month(\"Date\"))\n",
    "\n",
    "test_df = test_df.withColumn(\"DayofWeek\", F.dayofweek(\"Date\")) \\\n",
    "                     .withColumn(\"Month\", F.month(\"Date\"))"
   ]
  },
  {
   "cell_type": "markdown",
   "metadata": {},
   "source": [
    "### Handindling empty values\n",
    "\n",
    "As the goal of the model is to predict flight cancellation, only attributes that relate to events which have happened before the departure/ cancellation can be used for predictions. Therefore, columns such as WheelsOff, ArrivalTime etc. are removed from the training data."
   ]
  },
  {
   "cell_type": "code",
   "execution_count": 6,
   "metadata": {},
   "outputs": [
    {
     "name": "stdout",
     "output_type": "stream",
     "text": [
      "+----+-------------+------------+------+-----------+----------+-------------+--------------+-------+---------+--------+------+--------------+-----------+------------+---------+----------------+--------+--------------+-----------------+-------+--------+------------+------------+--------+-------------+-----------------+------------+---------+-----+\n",
      "|Date|UniqueCarrier|FlightNumber|Origin|Destination|CRSDepTime|DepartureTime|DepartureDelay|TaxiOut|WheelsOff|WheelsOn|TaxiIn|CRSArrivalTime|ArrivalTime|ArrivalDelay|Cancelled|CancellationCode|Diverted|CRSElapsedTime|ActualElapsedTime|AirTime|Distance|CarrierDelay|WeatherDelay|NASDelay|SecurityDelay|LateAircraftDelay|UnusedColumn|DayofWeek|Month|\n",
      "+----+-------------+------------+------+-----------+----------+-------------+--------------+-------+---------+--------+------+--------------+-----------+------------+---------+----------------+--------+--------------+-----------------+-------+--------+------------+------------+--------+-------------+-----------------+------------+---------+-----+\n",
      "|   0|            0|           0|     0|          0|         0|        82867|         82867|  85787|    85787|   89322| 89321|             0|      89322|      102361|        0|         6342300|       0|             0|           102362| 102361|       0|     5258837|     5258837| 5258837|      5258837|          5258837|     6429338|        0|    0|\n",
      "+----+-------------+------------+------+-----------+----------+-------------+--------------+-------+---------+--------+------+--------------+-----------+------------+---------+----------------+--------+--------------+-----------------+-------+--------+------------+------------+--------+-------------+-----------------+------------+---------+-----+\n",
      "\n"
     ]
    }
   ],
   "source": [
    "# Empty values in dataset\n",
    "flight_df.select([\n",
    "    F.count(F.when(F.col(c).isNull() | (F.isnan(c) if dict(flight_df.dtypes)[c] in ('double', 'float') else F.lit(False)), c)).alias(c)\n",
    "    for c in flight_df.columns\n",
    "]).show()"
   ]
  },
  {
   "cell_type": "code",
   "execution_count": 7,
   "metadata": {},
   "outputs": [
    {
     "name": "stdout",
     "output_type": "stream",
     "text": [
      "Cancelled flights: 87038\n",
      "+----+-------------+------------+------+-----------+----------+-------------+--------------+-------+---------+--------+------+--------------+-----------+------------+---------+----------------+--------+--------------+-----------------+-------+--------+------------+------------+--------+-------------+-----------------+------------+---------+-----+\n",
      "|Date|UniqueCarrier|FlightNumber|Origin|Destination|CRSDepTime|DepartureTime|DepartureDelay|TaxiOut|WheelsOff|WheelsOn|TaxiIn|CRSArrivalTime|ArrivalTime|ArrivalDelay|Cancelled|CancellationCode|Diverted|CRSElapsedTime|ActualElapsedTime|AirTime|Distance|CarrierDelay|WeatherDelay|NASDelay|SecurityDelay|LateAircraftDelay|UnusedColumn|DayofWeek|Month|\n",
      "+----+-------------+------------+------+-----------+----------+-------------+--------------+-------+---------+--------+------+--------------+-----------+------------+---------+----------------+--------+--------------+-----------------+-------+--------+------------+------------+--------+-------------+-----------------+------------+---------+-----+\n",
      "|   0|            0|           0|     0|          0|         0|        82867|         82867|  85787|    85787|   87038| 87038|             0|      87038|       87038|        0|               0|       0|             0|            87038|  87038|       0|       87038|       87038|   87038|        87038|            87038|       87038|        0|    0|\n",
      "+----+-------------+------------+------+-----------+----------+-------------+--------------+-------+---------+--------+------+--------------+-----------+------------+---------+----------------+--------+--------------+-----------------+-------+--------+------------+------------+--------+-------------+-----------------+------------+---------+-----+\n",
      "\n"
     ]
    }
   ],
   "source": [
    "flight_df_c = flight_df.filter(F.col(\"Cancelled\") == 1)\n",
    "\n",
    "print(\"Cancelled flights:\", flight_df_c.count())\n",
    "\n",
    "flight_df_c.select([\n",
    "    F.count(F.when(F.col(c).isNull() | (F.isnan(c) if dict(flight_df.dtypes)[c] in ('double', 'float') else F.lit(False)), c)).alias(c)\n",
    "    for c in flight_df_c.columns\n",
    "]).show()"
   ]
  },
  {
   "cell_type": "code",
   "execution_count": 8,
   "metadata": {},
   "outputs": [],
   "source": [
    "# Removing columns which have only NULL values for all cancelled fligths (events which occur after successful take-off)\n",
    "# Including these would give an unfair advantage to the model\n",
    "flight_df = flight_df.drop(\"UnusedColumn\", \"LateAircraftDelay\", \"SecurityDelay\", \"NASDelay\", \"WeatherDelay\", \"CarrierDelay\", \"AirTime\", \"ActualElapsedTime\", \"ArrivalDelay\", \"ArrivalTime\", \"TaxiIn\", \"WheelsOn\", \"CancellationCode\")"
   ]
  },
  {
   "cell_type": "code",
   "execution_count": 9,
   "metadata": {},
   "outputs": [
    {
     "data": {
      "text/html": [
       "<div>\n",
       "<style scoped>\n",
       "    .dataframe tbody tr th:only-of-type {\n",
       "        vertical-align: middle;\n",
       "    }\n",
       "\n",
       "    .dataframe tbody tr th {\n",
       "        vertical-align: top;\n",
       "    }\n",
       "\n",
       "    .dataframe thead th {\n",
       "        text-align: right;\n",
       "    }\n",
       "</style>\n",
       "<table border=\"1\" class=\"dataframe\">\n",
       "  <thead>\n",
       "    <tr style=\"text-align: right;\">\n",
       "      <th></th>\n",
       "      <th>summary</th>\n",
       "      <th>UniqueCarrier</th>\n",
       "      <th>FlightNumber</th>\n",
       "      <th>Origin</th>\n",
       "      <th>Destination</th>\n",
       "      <th>CRSDepTime</th>\n",
       "      <th>DepartureTime</th>\n",
       "      <th>DepartureDelay</th>\n",
       "      <th>TaxiOut</th>\n",
       "      <th>WheelsOff</th>\n",
       "      <th>CRSArrivalTime</th>\n",
       "      <th>Cancelled</th>\n",
       "      <th>Diverted</th>\n",
       "      <th>CRSElapsedTime</th>\n",
       "      <th>Distance</th>\n",
       "      <th>DayofWeek</th>\n",
       "      <th>Month</th>\n",
       "    </tr>\n",
       "  </thead>\n",
       "  <tbody>\n",
       "    <tr>\n",
       "      <th>0</th>\n",
       "      <td>count</td>\n",
       "      <td>6429338</td>\n",
       "      <td>6429338</td>\n",
       "      <td>6429338</td>\n",
       "      <td>6429338</td>\n",
       "      <td>6429338</td>\n",
       "      <td>6346471</td>\n",
       "      <td>6346471</td>\n",
       "      <td>6343551</td>\n",
       "      <td>6343551</td>\n",
       "      <td>6429338</td>\n",
       "      <td>6429338</td>\n",
       "      <td>6429338</td>\n",
       "      <td>6429338</td>\n",
       "      <td>6429338</td>\n",
       "      <td>6429338</td>\n",
       "      <td>6429338</td>\n",
       "    </tr>\n",
       "    <tr>\n",
       "      <th>1</th>\n",
       "      <td>mean</td>\n",
       "      <td>None</td>\n",
       "      <td>2293.7116343859975</td>\n",
       "      <td>None</td>\n",
       "      <td>None</td>\n",
       "      <td>1319.4466834688112</td>\n",
       "      <td>1326.026277910984</td>\n",
       "      <td>7.598178735867539</td>\n",
       "      <td>16.036132759080836</td>\n",
       "      <td>1350.7975509300707</td>\n",
       "      <td>1496.7219118049168</td>\n",
       "      <td>0.013537630157257247</td>\n",
       "      <td>0.0023832935832584943</td>\n",
       "      <td>129.3446482359459</td>\n",
       "      <td>724.9700084207736</td>\n",
       "      <td>3.9334544240791196</td>\n",
       "      <td>6.403640779190641</td>\n",
       "    </tr>\n",
       "    <tr>\n",
       "      <th>2</th>\n",
       "      <td>stddev</td>\n",
       "      <td>None</td>\n",
       "      <td>2046.4974637635953</td>\n",
       "      <td>None</td>\n",
       "      <td>None</td>\n",
       "      <td>457.7529163543435</td>\n",
       "      <td>468.8940114495748</td>\n",
       "      <td>31.764943958809727</td>\n",
       "      <td>10.563825466907772</td>\n",
       "      <td>470.05145211129746</td>\n",
       "      <td>473.31775527788676</td>\n",
       "      <td>0.11556108689381943</td>\n",
       "      <td>0.04876078203599143</td>\n",
       "      <td>69.66364081735983</td>\n",
       "      <td>561.0229006051012</td>\n",
       "      <td>1.9522775240815582</td>\n",
       "      <td>3.337858994294111</td>\n",
       "    </tr>\n",
       "    <tr>\n",
       "      <th>3</th>\n",
       "      <td>min</td>\n",
       "      <td>9E</td>\n",
       "      <td>1</td>\n",
       "      <td>ABE</td>\n",
       "      <td>ABE</td>\n",
       "      <td>1</td>\n",
       "      <td>1.0</td>\n",
       "      <td>-96.0</td>\n",
       "      <td>1.0</td>\n",
       "      <td>1.0</td>\n",
       "      <td>1</td>\n",
       "      <td>0.0</td>\n",
       "      <td>0.0</td>\n",
       "      <td>1.0</td>\n",
       "      <td>11.0</td>\n",
       "      <td>1</td>\n",
       "      <td>1</td>\n",
       "    </tr>\n",
       "    <tr>\n",
       "      <th>4</th>\n",
       "      <td>max</td>\n",
       "      <td>YV</td>\n",
       "      <td>7829</td>\n",
       "      <td>YUM</td>\n",
       "      <td>YUM</td>\n",
       "      <td>2359</td>\n",
       "      <td>2400.0</td>\n",
       "      <td>2445.0</td>\n",
       "      <td>458.0</td>\n",
       "      <td>2400.0</td>\n",
       "      <td>2400</td>\n",
       "      <td>1.0</td>\n",
       "      <td>1.0</td>\n",
       "      <td>660.0</td>\n",
       "      <td>4962.0</td>\n",
       "      <td>7</td>\n",
       "      <td>12</td>\n",
       "    </tr>\n",
       "  </tbody>\n",
       "</table>\n",
       "</div>"
      ],
      "text/plain": [
       "  summary UniqueCarrier        FlightNumber   Origin Destination  \\\n",
       "0   count       6429338             6429338  6429338     6429338   \n",
       "1    mean          None  2293.7116343859975     None        None   \n",
       "2  stddev          None  2046.4974637635953     None        None   \n",
       "3     min            9E                   1      ABE         ABE   \n",
       "4     max            YV                7829      YUM         YUM   \n",
       "\n",
       "           CRSDepTime      DepartureTime      DepartureDelay  \\\n",
       "0             6429338            6346471             6346471   \n",
       "1  1319.4466834688112  1326.026277910984   7.598178735867539   \n",
       "2   457.7529163543435  468.8940114495748  31.764943958809727   \n",
       "3                   1                1.0               -96.0   \n",
       "4                2359             2400.0              2445.0   \n",
       "\n",
       "              TaxiOut           WheelsOff      CRSArrivalTime  \\\n",
       "0             6343551             6343551             6429338   \n",
       "1  16.036132759080836  1350.7975509300707  1496.7219118049168   \n",
       "2  10.563825466907772  470.05145211129746  473.31775527788676   \n",
       "3                 1.0                 1.0                   1   \n",
       "4               458.0              2400.0                2400   \n",
       "\n",
       "              Cancelled               Diverted     CRSElapsedTime  \\\n",
       "0               6429338                6429338            6429338   \n",
       "1  0.013537630157257247  0.0023832935832584943  129.3446482359459   \n",
       "2   0.11556108689381943    0.04876078203599143  69.66364081735983   \n",
       "3                   0.0                    0.0                1.0   \n",
       "4                   1.0                    1.0              660.0   \n",
       "\n",
       "            Distance           DayofWeek              Month  \n",
       "0            6429338             6429338            6429338  \n",
       "1  724.9700084207736  3.9334544240791196  6.403640779190641  \n",
       "2  561.0229006051012  1.9522775240815582  3.337858994294111  \n",
       "3               11.0                   1                  1  \n",
       "4             4962.0                   7                 12  "
      ]
     },
     "execution_count": 9,
     "metadata": {},
     "output_type": "execute_result"
    }
   ],
   "source": [
    "flight_df.describe().toPandas()"
   ]
  },
  {
   "cell_type": "code",
   "execution_count": 10,
   "metadata": {},
   "outputs": [],
   "source": [
    "# Replacing missing values with dummy values as mean/median may be too misleading for the model\n",
    "flight_df = flight_df.fillna({\n",
    "    \"DepartureTime\": -1,\n",
    "    \"DepartureDelay\": -999,\n",
    "    \"TaxiOut\": -1,\n",
    "    \"WheelsOff\": -1\n",
    "})"
   ]
  },
  {
   "cell_type": "markdown",
   "metadata": {},
   "source": [
    "### Filtering out diverted flights"
   ]
  },
  {
   "cell_type": "code",
   "execution_count": 11,
   "metadata": {},
   "outputs": [],
   "source": [
    "flight_df = flight_df.filter(F.col(\"Diverted\") != 1)\n",
    "flight_df = flight_df.drop(\"Diverted\")"
   ]
  },
  {
   "cell_type": "markdown",
   "metadata": {},
   "source": [
    "### Result of data cleaning and preprocessing"
   ]
  },
  {
   "cell_type": "code",
   "execution_count": 12,
   "metadata": {},
   "outputs": [
    {
     "data": {
      "text/html": [
       "<div>\n",
       "<style scoped>\n",
       "    .dataframe tbody tr th:only-of-type {\n",
       "        vertical-align: middle;\n",
       "    }\n",
       "\n",
       "    .dataframe tbody tr th {\n",
       "        vertical-align: top;\n",
       "    }\n",
       "\n",
       "    .dataframe thead th {\n",
       "        text-align: right;\n",
       "    }\n",
       "</style>\n",
       "<table border=\"1\" class=\"dataframe\">\n",
       "  <thead>\n",
       "    <tr style=\"text-align: right;\">\n",
       "      <th></th>\n",
       "      <th>summary</th>\n",
       "      <th>UniqueCarrier</th>\n",
       "      <th>FlightNumber</th>\n",
       "      <th>Origin</th>\n",
       "      <th>Destination</th>\n",
       "      <th>CRSDepTime</th>\n",
       "      <th>DepartureTime</th>\n",
       "      <th>DepartureDelay</th>\n",
       "      <th>TaxiOut</th>\n",
       "      <th>WheelsOff</th>\n",
       "      <th>CRSArrivalTime</th>\n",
       "      <th>Cancelled</th>\n",
       "      <th>CRSElapsedTime</th>\n",
       "      <th>Distance</th>\n",
       "      <th>DayofWeek</th>\n",
       "      <th>Month</th>\n",
       "    </tr>\n",
       "  </thead>\n",
       "  <tbody>\n",
       "    <tr>\n",
       "      <th>0</th>\n",
       "      <td>count</td>\n",
       "      <td>6414015</td>\n",
       "      <td>6414015</td>\n",
       "      <td>6414015</td>\n",
       "      <td>6414015</td>\n",
       "      <td>6414015</td>\n",
       "      <td>6414015</td>\n",
       "      <td>6414015</td>\n",
       "      <td>6414015</td>\n",
       "      <td>6414015</td>\n",
       "      <td>6414015</td>\n",
       "      <td>6414015</td>\n",
       "      <td>6414015</td>\n",
       "      <td>6414015</td>\n",
       "      <td>6414015</td>\n",
       "      <td>6414015</td>\n",
       "    </tr>\n",
       "    <tr>\n",
       "      <th>1</th>\n",
       "      <td>mean</td>\n",
       "      <td>None</td>\n",
       "      <td>2293.3799955254235</td>\n",
       "      <td>None</td>\n",
       "      <td>None</td>\n",
       "      <td>1319.4701336058615</td>\n",
       "      <td>1308.8618974230649</td>\n",
       "      <td>-5.437568823895797</td>\n",
       "      <td>15.801064543815379</td>\n",
       "      <td>1332.6911000364046</td>\n",
       "      <td>1496.657665284537</td>\n",
       "      <td>0.013569971382979305</td>\n",
       "      <td>129.29364617949912</td>\n",
       "      <td>724.5877844064911</td>\n",
       "      <td>3.9332388527310895</td>\n",
       "      <td>6.4038607642794725</td>\n",
       "    </tr>\n",
       "    <tr>\n",
       "      <th>2</th>\n",
       "      <td>stddev</td>\n",
       "      <td>None</td>\n",
       "      <td>2046.2889367772186</td>\n",
       "      <td>None</td>\n",
       "      <td>None</td>\n",
       "      <td>457.77020834105366</td>\n",
       "      <td>489.36860848625486</td>\n",
       "      <td>117.94977839696475</td>\n",
       "      <td>10.659554576419781</td>\n",
       "      <td>492.0425485981101</td>\n",
       "      <td>473.3234123810263</td>\n",
       "      <td>0.11569714493715916</td>\n",
       "      <td>69.6402235039398</td>\n",
       "      <td>560.8469864545418</td>\n",
       "      <td>1.9522640447262647</td>\n",
       "      <td>3.3381621071187064</td>\n",
       "    </tr>\n",
       "    <tr>\n",
       "      <th>3</th>\n",
       "      <td>min</td>\n",
       "      <td>9E</td>\n",
       "      <td>1</td>\n",
       "      <td>ABE</td>\n",
       "      <td>ABE</td>\n",
       "      <td>1</td>\n",
       "      <td>-1.0</td>\n",
       "      <td>-999.0</td>\n",
       "      <td>-1.0</td>\n",
       "      <td>-1.0</td>\n",
       "      <td>1</td>\n",
       "      <td>0.0</td>\n",
       "      <td>1.0</td>\n",
       "      <td>11.0</td>\n",
       "      <td>1</td>\n",
       "      <td>1</td>\n",
       "    </tr>\n",
       "    <tr>\n",
       "      <th>4</th>\n",
       "      <td>max</td>\n",
       "      <td>YV</td>\n",
       "      <td>7829</td>\n",
       "      <td>YUM</td>\n",
       "      <td>YUM</td>\n",
       "      <td>2359</td>\n",
       "      <td>2400.0</td>\n",
       "      <td>2445.0</td>\n",
       "      <td>458.0</td>\n",
       "      <td>2400.0</td>\n",
       "      <td>2400</td>\n",
       "      <td>1.0</td>\n",
       "      <td>660.0</td>\n",
       "      <td>4962.0</td>\n",
       "      <td>7</td>\n",
       "      <td>12</td>\n",
       "    </tr>\n",
       "  </tbody>\n",
       "</table>\n",
       "</div>"
      ],
      "text/plain": [
       "  summary UniqueCarrier        FlightNumber   Origin Destination  \\\n",
       "0   count       6414015             6414015  6414015     6414015   \n",
       "1    mean          None  2293.3799955254235     None        None   \n",
       "2  stddev          None  2046.2889367772186     None        None   \n",
       "3     min            9E                   1      ABE         ABE   \n",
       "4     max            YV                7829      YUM         YUM   \n",
       "\n",
       "           CRSDepTime       DepartureTime      DepartureDelay  \\\n",
       "0             6414015             6414015             6414015   \n",
       "1  1319.4701336058615  1308.8618974230649  -5.437568823895797   \n",
       "2  457.77020834105366  489.36860848625486  117.94977839696475   \n",
       "3                   1                -1.0              -999.0   \n",
       "4                2359              2400.0              2445.0   \n",
       "\n",
       "              TaxiOut           WheelsOff     CRSArrivalTime  \\\n",
       "0             6414015             6414015            6414015   \n",
       "1  15.801064543815379  1332.6911000364046  1496.657665284537   \n",
       "2  10.659554576419781   492.0425485981101  473.3234123810263   \n",
       "3                -1.0                -1.0                  1   \n",
       "4               458.0              2400.0               2400   \n",
       "\n",
       "              Cancelled      CRSElapsedTime           Distance  \\\n",
       "0               6414015             6414015            6414015   \n",
       "1  0.013569971382979305  129.29364617949912  724.5877844064911   \n",
       "2   0.11569714493715916    69.6402235039398  560.8469864545418   \n",
       "3                   0.0                 1.0               11.0   \n",
       "4                   1.0               660.0             4962.0   \n",
       "\n",
       "            DayofWeek               Month  \n",
       "0             6414015             6414015  \n",
       "1  3.9332388527310895  6.4038607642794725  \n",
       "2  1.9522640447262647  3.3381621071187064  \n",
       "3                   1                   1  \n",
       "4                   7                  12  "
      ]
     },
     "execution_count": 12,
     "metadata": {},
     "output_type": "execute_result"
    }
   ],
   "source": [
    "flight_df.describe().toPandas()"
   ]
  },
  {
   "cell_type": "code",
   "execution_count": null,
   "metadata": {},
   "outputs": [],
   "source": []
  }
 ],
 "metadata": {
  "application/vnd.databricks.v1+notebook": {
   "dashboards": [],
   "language": "python",
   "notebookMetadata": {
    "mostRecentlyExecutedCommandWithImplicitDF": {
     "commandId": 109803845193651,
     "dataframes": [
      "_sqldf"
     ]
    },
    "pythonIndentUnit": 2
   },
   "notebookName": "Practice session - Graphframes",
   "notebookOrigID": 2259387480520179,
   "widgets": {}
  },
  "kernelspec": {
   "display_name": "Python 3 (ipykernel)",
   "language": "python",
   "name": "python3"
  },
  "language_info": {
   "codemirror_mode": {
    "name": "ipython",
    "version": 3
   },
   "file_extension": ".py",
   "mimetype": "text/x-python",
   "name": "python",
   "nbconvert_exporter": "python",
   "pygments_lexer": "ipython3",
   "version": "3.11.10"
  }
 },
 "nbformat": 4,
 "nbformat_minor": 4
}