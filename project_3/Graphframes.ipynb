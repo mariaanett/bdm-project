{
 "cells": [
  {
   "cell_type": "markdown",
   "metadata": {},
   "source": [
    "# Project 3: Big graphs\n",
    "\n",
    "The objective of this project is to use Spark’s APIs to analyze the flight interconnected data to understand the popularity of the airports and flight patterns."
   ]
  },
  {
   "cell_type": "markdown",
   "metadata": {},
   "source": [
    "## Session setup"
   ]
  },
  {
   "cell_type": "code",
   "execution_count": 1,
   "metadata": {},
   "outputs": [],
   "source": [
    "import pyspark\n",
    "from delta import configure_spark_with_delta_pip\n",
    "\n",
    "# Prepare the Spark builder\n",
    "builder = pyspark.sql.SparkSession.builder.appName(\"Project_3\") \\\n",
    "    .config(\"spark.sql.extensions\", \"io.delta.sql.DeltaSparkSessionExtension\") \\\n",
    "    .config(\"spark.sql.catalog.spark_catalog\", \"org.apache.spark.sql.delta.catalog.DeltaCatalog\") \\\n",
    "    .config(\"spark.driver.memory\", \"8g\") \\\n",
    "    .config(\"spark.executor.memory\", \"16g\")\n",
    "\n",
    "spark = configure_spark_with_delta_pip(builder,extra_packages=[\"graphframes:graphframes:0.8.4-spark3.5-s_2.12\"]).getOrCreate()\n",
    "spark.conf.set(\"spark.sql.shuffle.partitions\", spark._sc.defaultParallelism)\n",
    "\n",
    "#spark.conf.set(\"spark.sql.repl.eagerEval.enabled\",True) # OK for exploration, not great for performance\n",
    "spark.conf.set(\"spark.sql.repl.eagerEval.truncate\", 500)"
   ]
  },
  {
   "cell_type": "code",
   "execution_count": 2,
   "metadata": {},
   "outputs": [],
   "source": [
    "import graphframes as gf\n",
    "import pyspark.sql.functions as F"
   ]
  },
  {
   "cell_type": "markdown",
   "metadata": {
    "application/vnd.databricks.v1+cell": {
     "cellMetadata": {},
     "inputWidgets": {},
     "nuid": "92b18f53-5683-43db-bf6e-2080eebf8afc",
     "showTitle": false,
     "title": ""
    }
   },
   "source": [
    "## Creating the Graph"
   ]
  },
  {
   "cell_type": "code",
   "execution_count": 3,
   "metadata": {
    "application/vnd.databricks.v1+cell": {
     "cellMetadata": {},
     "inputWidgets": {},
     "nuid": "1b44e89e-57ea-4cda-9dde-935a1d203fbd",
     "showTitle": false,
     "title": ""
    }
   },
   "outputs": [
    {
     "name": "stdout",
     "output_type": "stream",
     "text": [
      "+----------+----------+-----------------+------+----+------------+--------+---------+--------+----------+---------+-------+------------+--------+---------+---------+-----------------+--------+----------------+-------------------+--------+--------+-------------+-------------+---------+--------------+-------------------+-----------+\n",
      "|   FL_DATE|OP_CARRIER|OP_CARRIER_FL_NUM|ORIGIN|DEST|CRS_DEP_TIME|DEP_TIME|DEP_DELAY|TAXI_OUT|WHEELS_OFF|WHEELS_ON|TAXI_IN|CRS_ARR_TIME|ARR_TIME|ARR_DELAY|CANCELLED|CANCELLATION_CODE|DIVERTED|CRS_ELAPSED_TIME|ACTUAL_ELAPSED_TIME|AIR_TIME|DISTANCE|CARRIER_DELAY|WEATHER_DELAY|NAS_DELAY|SECURITY_DELAY|LATE_AIRCRAFT_DELAY|Unnamed: 27|\n",
      "+----------+----------+-----------------+------+----+------------+--------+---------+--------+----------+---------+-------+------------+--------+---------+---------+-----------------+--------+----------------+-------------------+--------+--------+-------------+-------------+---------+--------------+-------------------+-----------+\n",
      "|2009-01-01|        XE|             1204|   DCA| EWR|        1100|  1058.0|     -2.0|    18.0|    1116.0|   1158.0|    8.0|        1202|  1206.0|      4.0|      0.0|             NULL|     0.0|            62.0|               68.0|    42.0|   199.0|         NULL|         NULL|     NULL|          NULL|               NULL|       NULL|\n",
      "|2009-01-01|        XE|             1206|   EWR| IAD|        1510|  1509.0|     -1.0|    28.0|    1537.0|   1620.0|    4.0|        1632|  1624.0|     -8.0|      0.0|             NULL|     0.0|            82.0|               75.0|    43.0|   213.0|         NULL|         NULL|     NULL|          NULL|               NULL|       NULL|\n",
      "|2009-01-01|        XE|             1207|   EWR| DCA|        1100|  1059.0|     -1.0|    20.0|    1119.0|   1155.0|    6.0|        1210|  1201.0|     -9.0|      0.0|             NULL|     0.0|            70.0|               62.0|    36.0|   199.0|         NULL|         NULL|     NULL|          NULL|               NULL|       NULL|\n",
      "|2009-01-01|        XE|             1208|   DCA| EWR|        1240|  1249.0|      9.0|    10.0|    1259.0|   1336.0|    9.0|        1357|  1345.0|    -12.0|      0.0|             NULL|     0.0|            77.0|               56.0|    37.0|   199.0|         NULL|         NULL|     NULL|          NULL|               NULL|       NULL|\n",
      "|2009-01-01|        XE|             1209|   IAD| EWR|        1715|  1705.0|    -10.0|    24.0|    1729.0|   1809.0|   13.0|        1900|  1822.0|    -38.0|      0.0|             NULL|     0.0|           105.0|               77.0|    40.0|   213.0|         NULL|         NULL|     NULL|          NULL|               NULL|       NULL|\n",
      "+----------+----------+-----------------+------+----+------------+--------+---------+--------+----------+---------+-------+------------+--------+---------+---------+-----------------+--------+----------------+-------------------+--------+--------+-------------+-------------+---------+--------------+-------------------+-----------+\n",
      "\n"
     ]
    }
   ],
   "source": [
    "# Reading in the data\n",
    "\n",
    "flight_df = spark.read.csv(\"input/2009.csv\", header=True, inferSchema=True)\n",
    "\n",
    "flight_df.limit(5).show()"
   ]
  },
  {
   "cell_type": "code",
   "execution_count": 4,
   "metadata": {
    "application/vnd.databricks.v1+cell": {
     "cellMetadata": {},
     "inputWidgets": {},
     "nuid": "2e400236-cfae-49b6-a7f8-55b58070ff2a",
     "showTitle": false,
     "title": ""
    }
   },
   "outputs": [
    {
     "data": {
      "text/plain": [
       "DataFrame[id: string]"
      ]
     },
     "metadata": {},
     "output_type": "display_data"
    }
   ],
   "source": [
    "# Vertices\n",
    "\n",
    "flight_vertices = (flight_df\n",
    "                  .select(F.col(\"ORIGIN\").alias(\"id\"))\n",
    "                  .union(flight_df\n",
    "                        .select(F.col(\"DEST\").alias(\"id\")))\n",
    "                  .distinct()\n",
    ")\n",
    "\n",
    "display(flight_vertices)"
   ]
  },
  {
   "cell_type": "code",
   "execution_count": 5,
   "metadata": {
    "application/vnd.databricks.v1+cell": {
     "cellMetadata": {},
     "inputWidgets": {},
     "nuid": "3845e9a6-68ee-4247-a2a0-695c2625e7bc",
     "showTitle": false,
     "title": ""
    }
   },
   "outputs": [
    {
     "data": {
      "text/plain": [
       "DataFrame[FL_DATE: date, OP_CARRIER: string, OP_CARRIER_FL_NUM: int, src: string, dst: string, CRS_DEP_TIME: int, DEP_TIME: double, DEP_DELAY: double, TAXI_OUT: double, WHEELS_OFF: double, WHEELS_ON: double, TAXI_IN: double, CRS_ARR_TIME: int, ARR_TIME: double, ARR_DELAY: double, CANCELLED: double, CANCELLATION_CODE: string, DIVERTED: double, CRS_ELAPSED_TIME: double, ACTUAL_ELAPSED_TIME: double, AIR_TIME: double, DISTANCE: double, CARRIER_DELAY: double, WEATHER_DELAY: double, NAS_DELAY: double, SECURITY_DELAY: double, LATE_AIRCRAFT_DELAY: double, Unnamed: 27: string]"
      ]
     },
     "metadata": {},
     "output_type": "display_data"
    }
   ],
   "source": [
    "# Edges\n",
    "\n",
    "flight_edges = (flight_df\n",
    "               .withColumnRenamed(\"ORIGIN\",\"src\")\n",
    "               .withColumnRenamed(\"DEST\",\"dst\")\n",
    ")\n",
    "\n",
    "display(flight_edges)"
   ]
  },
  {
   "cell_type": "markdown",
   "metadata": {},
   "source": [
    "#### GraphFrame"
   ]
  },
  {
   "cell_type": "code",
   "execution_count": 6,
   "metadata": {
    "application/vnd.databricks.v1+cell": {
     "cellMetadata": {},
     "inputWidgets": {},
     "nuid": "dedad5cc-a634-42d4-bac8-e24c2853ffa9",
     "showTitle": false,
     "title": ""
    }
   },
   "outputs": [
    {
     "data": {
      "text/plain": [
       "GraphFrame(v:[id: string], e:[src: string, dst: string ... 26 more fields])"
      ]
     },
     "metadata": {},
     "output_type": "display_data"
    }
   ],
   "source": [
    "flight_graph = gf.GraphFrame(flight_vertices, flight_edges)\n",
    "\n",
    "flight_vertices.cache()\n",
    "flight_edges.cache()\n",
    "\n",
    "display(flight_graph)"
   ]
  },
  {
   "cell_type": "markdown",
   "metadata": {
    "application/vnd.databricks.v1+cell": {
     "cellMetadata": {},
     "inputWidgets": {},
     "nuid": "acb9f1ff-a64d-4dab-9835-bb97e1e5323c",
     "showTitle": false,
     "title": ""
    }
   },
   "source": [
    "## Query 1 (0)\n",
    "\n",
    "Compute different statistics : in-degree, out-degree, total degree and triangle count (without existing functions). "
   ]
  },
  {
   "cell_type": "markdown",
   "metadata": {},
   "source": [
    "### In-degree\n",
    "\n",
    "To calculate the in-degree of each node, we counted the number of edges where the node is the destination."
   ]
  },
  {
   "cell_type": "code",
   "execution_count": 13,
   "metadata": {},
   "outputs": [
    {
     "name": "stdout",
     "output_type": "stream",
     "text": [
      "+---+------------+--------+\n",
      "| id|our_inDegree|inDegree|\n",
      "+---+------------+--------+\n",
      "|IAH|      182088|  182088|\n",
      "|JAX|       28813|   28813|\n",
      "|ABQ|       35577|   35577|\n",
      "|IND|       38198|   38198|\n",
      "|BOS|      110463|  110463|\n",
      "|GRR|       13970|   13970|\n",
      "|MEM|       71721|   71721|\n",
      "|PBI|       25496|   25496|\n",
      "|XNA|       13764|   13764|\n",
      "|LBB|        8004|    8004|\n",
      "|BTV|        6021|    6021|\n",
      "|VPS|        6958|    6958|\n",
      "|SYR|        9330|    9330|\n",
      "|JFK|      119571|  119571|\n",
      "|MBS|        3443|    3443|\n",
      "|SBN|        4527|    4527|\n",
      "|PDX|       52251|   52251|\n",
      "|RDD|        1433|    1433|\n",
      "|LNK|        2765|    2765|\n",
      "|HPN|       10661|   10661|\n",
      "+---+------------+--------+\n",
      "only showing top 20 rows\n",
      "\n"
     ]
    }
   ],
   "source": [
    "# Custom query\n",
    "in_degree = flight_graph.edges.groupBy(\"dst\").agg(F.count(\"*\").alias(\"our_inDegree\"))\n",
    "\n",
    "# Adding the built-in function column for validation\n",
    "bi_result = flight_graph.inDegrees\n",
    "in_degree_renamed = in_degree.withColumnRenamed(\"dst\", \"id\")\n",
    "comparison = in_degree_renamed.join(bi_result, on=\"id\", how=\"inner\")\n",
    "\n",
    "comparison.show()"
   ]
  },
  {
   "cell_type": "markdown",
   "metadata": {},
   "source": [
    "### Out-degree\n",
    "\n",
    "To calculate the out-degree of each node, we counted the number of edges where the node is the source."
   ]
  },
  {
   "cell_type": "code",
   "execution_count": 15,
   "metadata": {},
   "outputs": [
    {
     "name": "stdout",
     "output_type": "stream",
     "text": [
      "+---+-------------+---------+\n",
      "| id|our_outDegree|outDegree|\n",
      "+---+-------------+---------+\n",
      "|IAH|       182097|   182097|\n",
      "|JAX|        28810|    28810|\n",
      "|ABQ|        35582|    35582|\n",
      "|IND|        38201|    38201|\n",
      "|GRR|        13973|    13973|\n",
      "|LBB|         8002|     8002|\n",
      "|MEM|        71713|    71713|\n",
      "|BTV|         6028|     6028|\n",
      "|BOS|       110460|   110460|\n",
      "|PBI|        25500|    25500|\n",
      "|XNA|        13755|    13755|\n",
      "|VPS|         6959|     6959|\n",
      "|SYR|         9336|     9336|\n",
      "|JFK|       119574|   119574|\n",
      "|MBS|         3444|     3444|\n",
      "|SBN|         4526|     4526|\n",
      "|PDX|        52242|    52242|\n",
      "|RDD|         1433|     1433|\n",
      "|LNK|         2765|     2765|\n",
      "|HPN|        10657|    10657|\n",
      "+---+-------------+---------+\n",
      "only showing top 20 rows\n",
      "\n"
     ]
    }
   ],
   "source": [
    "# Custom query\n",
    "out_degree = flight_graph.edges.groupBy(\"src\").agg(F.count(\"*\").alias(\"our_outDegree\"))\n",
    "\n",
    "# Adding the built-in function column for validation\n",
    "bi_result = flight_graph.outDegrees # For validation\n",
    "out_degree_renamed = out_degree.withColumnRenamed(\"src\", \"id\")\n",
    "comparison = out_degree_renamed.join(bi_result, on=\"id\", how=\"inner\")\n",
    "\n",
    "comparison.show()"
   ]
  },
  {
   "cell_type": "markdown",
   "metadata": {},
   "source": [
    "### Total degree\n",
    "\n",
    "To calculate the total degree of each node, we counted how many times it appears as either the source or destination in the edges"
   ]
  },
  {
   "cell_type": "code",
   "execution_count": 17,
   "metadata": {},
   "outputs": [
    {
     "name": "stdout",
     "output_type": "stream",
     "text": [
      "+---+----------+------+\n",
      "| id|our_degree|degree|\n",
      "+---+----------+------+\n",
      "|IAH|    364185|364185|\n",
      "|JAX|     57623| 57623|\n",
      "|ABQ|     71159| 71159|\n",
      "|IND|     76399| 76399|\n",
      "|BOS|    220923|220923|\n",
      "|GRR|     27943| 27943|\n",
      "|LBB|     16006| 16006|\n",
      "|MEM|    143434|143434|\n",
      "|BTV|     12049| 12049|\n",
      "|PBI|     50996| 50996|\n",
      "|XNA|     27519| 27519|\n",
      "|VPS|     13917| 13917|\n",
      "|SYR|     18666| 18666|\n",
      "|JFK|    239145|239145|\n",
      "|MBS|      6887|  6887|\n",
      "|SBN|      9053|  9053|\n",
      "|PDX|    104493|104493|\n",
      "|RDD|      2866|  2866|\n",
      "|LNK|      5530|  5530|\n",
      "|HPN|     21318| 21318|\n",
      "+---+----------+------+\n",
      "only showing top 20 rows\n",
      "\n"
     ]
    }
   ],
   "source": [
    "# Finding the total degrees (custom query)\n",
    "total_degree = flight_graph.edges.select(F.col(\"src\").alias(\"id\")) \\\n",
    "    .union(flight_graph.edges.select(F.col(\"dst\").alias(\"id\"))) \\\n",
    "    .groupBy(\"id\") \\\n",
    "    .agg(F.count(\"*\").alias(\"our_degree\"))\n",
    "\n",
    "# Adding the built-in function column for validation\n",
    "bi_result = flight_graph.degrees # For validation\n",
    "comparison = total_degree.join(bi_result, on=\"id\", how=\"inner\")\n",
    "\n",
    "comparison.show()"
   ]
  },
  {
   "cell_type": "markdown",
   "metadata": {},
   "source": [
    "### Triangle count\n",
    "\n",
    "We calculate how many times each node appears in by converting the graph into an undirected graph, then finding all triangles in the graph and finally counting how many triangles each node is part of. To find all triangles in the graph we first look for paths a -> b and b -> c and then select triangles where there is an edge c -> a. We sort the nodes of all triangles alphabetically to remove all duplicate triangles."
   ]
  },
  {
   "cell_type": "code",
   "execution_count": 13,
   "metadata": {},
   "outputs": [
    {
     "name": "stdout",
     "output_type": "stream",
     "text": [
      "+---+-----+\n",
      "| id|count|\n",
      "+---+-----+\n",
      "|IAH| 1338|\n",
      "|JAX|  342|\n",
      "|ABQ|  311|\n",
      "|IND|  612|\n",
      "|GRR|   96|\n",
      "|LBB|   23|\n",
      "|MEM| 1105|\n",
      "|BTV|   34|\n",
      "|BOS|  860|\n",
      "|PBI|  168|\n",
      "|XNA|   97|\n",
      "|VPS|   10|\n",
      "|SYR|   82|\n",
      "|JFK|  942|\n",
      "|MBS|    6|\n",
      "|SBN|   13|\n",
      "|PDX|  413|\n",
      "|RDD|    1|\n",
      "|LNK|   38|\n",
      "|HPN|   36|\n",
      "+---+-----+\n",
      "only showing top 20 rows\n",
      "\n"
     ]
    }
   ],
   "source": [
    "# Removing all duplicate edges from the graph based on src and dst\n",
    "flight_edges_distinct = flight_edges.dropDuplicates(['src', 'dst'])\n",
    "\n",
    "# Making the graph undirected to mimic the built-in funtion\n",
    "undirected_edges = flight_edges_distinct.selectExpr(\"src\", \"dst\") \\\n",
    "    .union(flight_edges_distinct.selectExpr(\"dst as src\", \"src as dst\")).dropDuplicates()\n",
    "\n",
    "# Finding all a -> b, b -> c pairs \n",
    "paths = undirected_edges.alias(\"e1\") \\\n",
    "    .join(flight_edges_distinct.alias(\"e2\"), F.col(\"e1.dst\") == F.col(\"e2.src\")) \\\n",
    "    .select(F.col(\"e1.src\").alias(\"a\"),\n",
    "            F.col(\"e1.dst\").alias(\"b\"),\n",
    "            F.col(\"e2.dst\").alias(\"c\"))\n",
    "\n",
    "# Finding all triangles with c -> a\n",
    "triangles = paths \\\n",
    "    .join(undirected_edges.alias(\"e3\"), (F.col(\"e3.src\") == F.col(\"c\")) & (F.col(\"e3.dst\") == F.col(\"a\"))) \\\n",
    "    .select(\"a\", \"b\", \"c\")\n",
    "\n",
    "# Sorting the triangle nodes alphabetically to drop duplicates\n",
    "triangles_sorted = triangles.select(F.array_sort(F.array(\"a\", \"b\", \"c\")).alias(\"triangle\")).dropDuplicates()\n",
    "\n",
    "# Converting all triangles into one column of veritces [a, b, c] [c, d, a] -> a, b, c, c, d, a\n",
    "triangle_vertices = triangles_sorted.select(F.explode(\"triangle\").alias(\"id\"))\n",
    "\n",
    "# Counting the number of triangles each airport is part of \n",
    "triangle_counts = triangle_vertices.groupBy(\"id\").count()\n",
    "\n",
    "# Adding nodes that are part of 0 triangles to the result to match the built-in function\n",
    "result = flight_graph.vertices.select(\"id\") \\\n",
    "    .join(triangle_counts, on=\"id\", how=\"left\") \\\n",
    "    .withColumn(\"count\", F.coalesce(F.col(\"count\"), F.lit(0)))\n",
    "\n",
    "result.show()"
   ]
  },
  {
   "cell_type": "code",
   "execution_count": 14,
   "metadata": {},
   "outputs": [
    {
     "name": "stdout",
     "output_type": "stream",
     "text": [
      "Differences in the results (should be empty):\n",
      "+---+--------------+------------+\n",
      "| id|Built-in_count|Custom_count|\n",
      "+---+--------------+------------+\n",
      "+---+--------------+------------+\n",
      "\n"
     ]
    }
   ],
   "source": [
    "# Comparing our results with the built-in function to validate all results\n",
    "joined_triangles = flight_graph.triangleCount().alias('a').join(result.alias('b'), on='id')\n",
    "diff_counts = joined_triangles.filter(F.col('a.count') != F.col('b.count')) # Should be empty if all is correct\n",
    "print(\"Differences in the results (should be empty):\")\n",
    "diff_counts.select('id', F.col('a.count').alias('Built-in_count'), F.col('b.count').alias('Custom_count')).show()"
   ]
  },
  {
   "cell_type": "markdown",
   "metadata": {},
   "source": [
    "## Query 2 (1)\n",
    "Compute the total number of triangles in the graph.\n",
    "\n",
    "The query to find the total number of triangles in the graph uses the same logic as the previous query, but it just counts the total number of unique triangles, not node appearances."
   ]
  },
  {
   "cell_type": "code",
   "execution_count": 15,
   "metadata": {},
   "outputs": [
    {
     "name": "stdout",
     "output_type": "stream",
     "text": [
      "Total number of triangles in the flight graph is 16015.\n"
     ]
    }
   ],
   "source": [
    "# Removing all duplicate edges from the graph based on src and dst\n",
    "flight_edges_distinct = flight_edges.dropDuplicates(['src', 'dst'])\n",
    "\n",
    "# Making the graph undirected by adding reversed edges (src <-> dst) to mimic the built-in funtion\n",
    "undirected_edges = flight_edges_distinct.selectExpr(\"src\", \"dst\") \\\n",
    "    .union(flight_edges_distinct.selectExpr(\"dst as src\", \"src as dst\")).dropDuplicates()\n",
    "\n",
    "# Finding all a -> b, b -> c pairs \n",
    "paths = undirected_edges.alias(\"e1\") \\\n",
    "    .join(flight_edges_distinct.alias(\"e2\"), F.col(\"e1.dst\") == F.col(\"e2.src\")) \\\n",
    "    .select(F.col(\"e1.src\").alias(\"a\"),\n",
    "            F.col(\"e1.dst\").alias(\"b\"),\n",
    "            F.col(\"e2.dst\").alias(\"c\"))\n",
    "\n",
    "# Finding all triangles with c -> a\n",
    "triangles = paths \\\n",
    "    .join(undirected_edges.alias(\"e3\"), (F.col(\"e3.src\") == F.col(\"c\")) & (F.col(\"e3.dst\") == F.col(\"a\"))) \\\n",
    "    .select(\"a\", \"b\", \"c\")\n",
    "\n",
    "# Sorting the triangle nodes alphabetically to drop duplicates\n",
    "triangles_sorted = triangles.select(F.array_sort(F.array(\"a\", \"b\", \"c\")).alias(\"triangle\")).dropDuplicates()\n",
    "\n",
    "# Count the total triangles in the graph\n",
    "total_triangle_count = triangles_sorted.count()\n",
    "\n",
    "print(f\"Total number of triangles in the flight graph is {total_triangle_count}.\")"
   ]
  },
  {
   "cell_type": "markdown",
   "metadata": {},
   "source": [
    "To find the total number of of unique triangles in the graph using the built-in function replica, we sum all the individual node triangle counts and divided it by 3 since each triangle is included three times (once for each of its 3 vertices)."
   ]
  },
  {
   "cell_type": "code",
   "execution_count": 16,
   "metadata": {},
   "outputs": [
    {
     "name": "stdout",
     "output_type": "stream",
     "text": [
      "Total number of triangles in the flight graph is 16015.\n"
     ]
    }
   ],
   "source": [
    "# Finding the sum of all triangles in the graph using the triangle count results from q1\n",
    "total_triangle_count = triangle_counts.agg(F.sum(\"count\")).first()[0] // 3\n",
    "print(f\"Total number of triangles in the flight graph is {total_triangle_count}.\")"
   ]
  },
  {
   "cell_type": "code",
   "execution_count": 17,
   "metadata": {},
   "outputs": [
    {
     "name": "stdout",
     "output_type": "stream",
     "text": [
      "Total number of triangles in the flight graph based on the built-in function is 16015.\n"
     ]
    }
   ],
   "source": [
    "# For validation\n",
    "triangle_count_val = flight_graph.triangleCount().agg(F.sum(\"count\")).first()[0] // 3\n",
    "print(f\"Total number of triangles in the flight graph based on the built-in function is {triangle_count_val}.\")"
   ]
  },
  {
   "cell_type": "markdown",
   "metadata": {
    "jp-MarkdownHeadingCollapsed": true
   },
   "source": [
    "## Query 3 (2)\n",
    "Compute a centrality measure of your choice natively on Spark using Graphframes."
   ]
  },
  {
   "cell_type": "code",
   "execution_count": null,
   "metadata": {},
   "outputs": [],
   "source": []
  },
  {
   "cell_type": "markdown",
   "metadata": {
    "jp-MarkdownHeadingCollapsed": true
   },
   "source": [
    "## Query 4 (3)\n",
    "Implement the PageRank algorithm natively on Spark using Graphframes."
   ]
  },
  {
   "cell_type": "code",
   "execution_count": null,
   "metadata": {},
   "outputs": [],
   "source": []
  },
  {
   "cell_type": "markdown",
   "metadata": {},
   "source": [
    "## Query 5 (4)\n",
    "Find the group of the most connected airports.\n",
    "\n",
    "To find the group of most connected components, we replicated the connectedComponents() function. As preparation, we made the graph undirected and removed all duplicate edges for less processing. \n",
    "\n",
    "To find all connected components, we first initialized the components so that each node belongs to a separate component. After this, we added all nodes that are reachable from the initial node to respective components. This process is repeated until the results converge (in this specific case, it takes 4 iterations, and the graph is fully connected). Finally, the largest connected component is identified by selecting the component with the largest size."
   ]
  },
  {
   "cell_type": "code",
   "execution_count": 61,
   "metadata": {},
   "outputs": [
    {
     "name": "stdout",
     "output_type": "stream",
     "text": [
      "Iteration 1: 44 components.\n",
      "Iteration 2: 7 components.\n",
      "Iteration 3: 2 components.\n",
      "Iteration 4: 1 components.\n",
      "The most connected group contains 296 out of 296 airports.\n"
     ]
    }
   ],
   "source": [
    "# Removing all duplicate edges from the graph based on src and dst\n",
    "flight_edges_distinct = flight_edges.dropDuplicates(['src', 'dst'])\n",
    "\n",
    "# Making the graph undirected by adding reversed edges (src <-> dst) to mimic the built-in function\n",
    "undirected_edges = flight_edges_distinct.select(\"src\", \"dst\") \\\n",
    "    .union(flight_edges_distinct.selectExpr(\"dst as src\", \"src as dst\")) \\\n",
    "    .dropDuplicates() \\\n",
    "    .repartition(200, \"src\")\n",
    "\n",
    "# Creating initial components where each node starts as its own component\n",
    "components = flight_vertices.select(\"id\").withColumnRenamed(\"id\", \"node\").withColumn(\"label\", F.col(\"node\"))\n",
    "\n",
    "# After 4 iterations there is 1 large component (meaning the graph is fully connected)\n",
    "for i in range(4):\n",
    "    # Joining the edges with the components to propagate the component labels from neighbors\n",
    "    neighbors = undirected_edges.join(components, undirected_edges.src == labels.node, \"left\") \\\n",
    "        .select(F.col(\"dst\").alias(\"node\"), \"label\") \\\n",
    "        .repartition(200, \"node\")\n",
    "\n",
    "    # Updating the components using the alpabetically first node as the label for the component\n",
    "    components = neighbors.groupBy(\"node\") \\\n",
    "        .agg(F.min(\"label\").alias(\"label\")) \\\n",
    "        .repartition(200, \"node\")\n",
    "\n",
    "    # Counting the number of connected components after this iteration for tracking\n",
    "    component_sizes = components.groupBy(\"label\").agg(F.count(\"*\").alias(\"size\"))\n",
    "    print(f\"Iteration {i+1}: {component_sizes.count()} components.\")\n",
    "\n",
    "# Extracting the largest component label (alpabetically first node)\n",
    "largest_component_label = component_sizes.orderBy(F.desc(\"size\")).limit(1).collect()[0][\"label\"]\n",
    "most_connected_airports = labels.filter(F.col(\"label\") == largest_component_label).select(\"node\")\n",
    "\n",
    "print(f\"The most connected group contains {most_connected_airports.count()} out of {flight_vertices.count()} airports.\")"
   ]
  }
 ],
 "metadata": {
  "application/vnd.databricks.v1+notebook": {
   "dashboards": [],
   "language": "python",
   "notebookMetadata": {
    "mostRecentlyExecutedCommandWithImplicitDF": {
     "commandId": 109803845193651,
     "dataframes": [
      "_sqldf"
     ]
    },
    "pythonIndentUnit": 2
   },
   "notebookName": "Practice session - Graphframes",
   "notebookOrigID": 2259387480520179,
   "widgets": {}
  },
  "kernelspec": {
   "display_name": "Python 3 (ipykernel)",
   "language": "python",
   "name": "python3"
  },
  "language_info": {
   "codemirror_mode": {
    "name": "ipython",
    "version": 3
   },
   "file_extension": ".py",
   "mimetype": "text/x-python",
   "name": "python",
   "nbconvert_exporter": "python",
   "pygments_lexer": "ipython3",
   "version": "3.11.10"
  }
 },
 "nbformat": 4,
 "nbformat_minor": 4
}